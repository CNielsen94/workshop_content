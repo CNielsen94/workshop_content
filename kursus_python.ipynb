{
  "cells": [
    {
      "cell_type": "markdown",
      "metadata": {
        "id": "view-in-github",
        "colab_type": "text"
      },
      "source": [
        "<a href=\"https://colab.research.google.com/github/CNielsen94/workshop_content/blob/main/kursus_python.ipynb\" target=\"_parent\"><img src=\"https://colab.research.google.com/assets/colab-badge.svg\" alt=\"Open In Colab\"/></a>"
      ]
    },
    {
      "cell_type": "markdown",
      "metadata": {
        "id": "L81gjyszzeKH"
      },
      "source": [
        "# Introduktion: Velkommen til Python!\n",
        "\n",
        "Hej og velkommen til! Du er nu i gang med at tage dit allerførste skridt ind i en verden af programmering. Det kan virke som en stor og kompliceret verden, men bare rolig. Vi har designet dette kursus til at være så begyndervenligt som muligt. Vi tager et skridt ad gangen, bruger simple danske analogier og sørger for, at du bygger selvtillid undervejs.\n",
        "\n",
        "Vores mål er ikke at gøre dig til ekspert på en dag, men at give dig en solid og sjov introduktion til de grundlæggende idéer bag kodning, så du kan se, at det er noget, *alle* kan lære.\n",
        "\n",
        "## Hvad er et program?\n",
        "\n",
        "Forestil dig, at du skal forklare en ven, hvordan man laver en kop kaffe. Du ville give en række meget præcise instruktioner:\n",
        "\n",
        "1.  Tænd for elkedlen.\n",
        "2.  Put en skefuld kaffe i en kop.\n",
        "3.  Hæld det varme vand i koppen.\n",
        "4.  Rør rundt.\n",
        "\n",
        "Et computerprogram er i bund og grund det samme: **en række præcise instruktioner, som vi giver til en computer**. Computeren er ikke særlig klog af sig selv, men den er utrolig god til at følge instruktioner hurtigt og præcist. Sproget, vi bruger til at skrive disse instruktioner, kaldes et programmeringssprog, og i dette kursus skal vi lære et af de mest populære i verden: **Python**.\n",
        "\n",
        "## Hvordan virker denne notesbog?\n",
        "\n",
        "Du kigger lige nu på en \"Jupyter Notebook\". Det er et interaktivt dokument, hvor vi kan blande almindelig tekst (som det, du læser nu) med computerkode, som du kan køre direkte her i browseren.\n",
        "\n",
        "En notesbog består af **celler**. Der er to typer:\n",
        "\n",
        "1.  **Tekstceller**: Disse indeholder forklaringer, billeder og overskrifter. De er til for at guide dig.\n",
        "2.  **Kodeceller**: Disse indeholder Python-kode. Du kan kende dem på den grå baggrund og en lille \"play\"-knap (▶️) til venstre.\n",
        "\n",
        "### Sådan kører du en kodecelle\n",
        "\n",
        "Når du vil give computeren instruktionerne i en kodecelle, skal du \"køre\" cellen. Det kan du gøre på to måder:\n",
        "\n",
        "1.  Klik på **play-knappen (▶️)** til venstre for cellen.\n",
        "2.  Klik inde i cellen med musen og tryk på **Shift + Enter** på dit tastatur.\n",
        "\n",
        "Lad os prøve det!\n",
        "\n",
        "## Dit Første Program: Sig \"Hej\" til Verden!\n",
        "\n",
        "I programmering er der en lang tradition for, at det allerførste program, man skriver, er et, der får computeren til at sige \"Hello, World!\". Vi skal selvfølgelig lave en dansk version.\n",
        "\n",
        "### `print()` funktionen\n",
        "\n",
        "For at få computeren til at skrive noget på skærmen, bruger vi en kommando (i Python kaldes det en **funktion**), der hedder `print()`. Det, vi gerne vil have den til at skrive, putter vi ind i parenteserne `()` og omkranser det med citationstegn `\"\"`. Citationstegnene fortæller Python, at \"dette er almindelig tekst, ikke en kommando\".\n",
        "\n",
        "Kør kodecellen herunder for at se, hvordan det virker."
      ]
    },
    {
      "cell_type": "code",
      "metadata": {
        "id": "bTSyDMsazeKK",
        "colab": {
          "base_uri": "https://localhost:8080/"
        },
        "outputId": "68cdb41f-9245-4c2a-ba4d-b6b22677768a"
      },
      "source": [
        "# Dette er en kommentar. Linjer, der starter med #, bliver ignoreret af Python.\n",
        "# De er kun til for at efterlade noter til os mennesker.\n",
        "\n",
        "print(\"Hej, Verden!\")"
      ],
      "execution_count": 1,
      "outputs": [
        {
          "output_type": "stream",
          "name": "stdout",
          "text": [
            "Hej, Verden!\n"
          ]
        }
      ]
    },
    {
      "cell_type": "markdown",
      "metadata": {
        "id": "NVOch5rfzeKL"
      },
      "source": [
        "#### Hvad skete der?\n",
        "\n",
        "Lige under kodecellen ser du resultatet, eller \"outputtet\": `Hej, Verden!`. Tillykke! Du har lige kørt dit første computerprogram. Programmet bestod af én enkelt instruktion: \"Skriv teksten 'Hej, Verden!' på skærmen\". Computeren gjorde præcis, som du bad den om.\n",
        "\n",
        "### Tilpas beskeden\n",
        "\n",
        "Nu er det vores tur til at prøve sammen. I kodecellen nedenfor har jeg skrevet starten på en sætning. Din opgave er at færdiggøre sætningen inde i citationstegnene. Du kan skrive lige, hvad du har lyst til, f.eks. \"sjovt\" eller \"spændende\".\n",
        "\n",
        "Kør derefter cellen og se dit eget budskab blive skrevet ud."
      ]
    },
    {
      "cell_type": "code",
      "metadata": {
        "id": "13XPpelpzeKM",
        "colab": {
          "base_uri": "https://localhost:8080/"
        },
        "outputId": "7e3087eb-7100-467f-b45c-8efaba3db065"
      },
      "source": [
        "# Skriv færdig sætningen inde i citationstegnene\n",
        "print(\"At lære at kode er...\")"
      ],
      "execution_count": 2,
      "outputs": [
        {
          "output_type": "stream",
          "name": "stdout",
          "text": [
            "At lære at kode er...\n"
          ]
        }
      ]
    },
    {
      "cell_type": "markdown",
      "metadata": {
        "id": "ydGIYZfozeKM"
      },
      "source": [
        "#### Hvad skete der?\n",
        "\n",
        "Godt klaret! Du så, hvordan du kunne ændre *indholdet* (teksten) inde i `print()`-funktionen for at få computeren til at skrive præcis det, du ønskede. Selve kommandoen, `print()`, forblev den samme. Dette er en kerneidé i programmering: Vi bruger de samme kommandoer igen og igen med forskelligt data.\n",
        "\n",
        "### ✍️ Din tur!\n",
        "\n",
        "Nu er det din tur til at skrive et program helt fra bunden. Opgaven er at få computeren til at skrive tre separate linjer tekst:\n",
        "\n",
        "1.  En linje, der siger \"Mit navn er [Dit Navn]\".\n",
        "2.  En linje med din yndlingsdanske madret.\n",
        "3.  En linje, der fortæller, hvor du er fra.\n",
        "\n",
        "For at lave en ny linje skal du bruge `print()`-kommandoen igen for hver linje, du vil skrive.\n",
        "\n",
        "**Skriv din kode i cellen herunder.**"
      ]
    },
    {
      "cell_type": "code",
      "metadata": {
        "id": "A-hz3I_fzeKN"
      },
      "source": [
        "# Skriv din kode her. Brug tre separate print() kommandoer.\n"
      ],
      "execution_count": null,
      "outputs": []
    },
    {
      "cell_type": "markdown",
      "metadata": {
        "id": "foZwZxk5zeKN"
      },
      "source": [
        "Fantastisk arbejde! At kunne give computeren en række instruktioner, som den følger i rækkefølge, er selve fundamentet i al programmering. Du har nu lært den mest grundlæggende kommando, `print()`, og du har brugt den til at skabe dit helt eget, personlige program.\n",
        "\n",
        "Hvis du sad fast, eller hvis du bare vil se et eksempel på en løsning, kan du kigge herunder."
      ]
    },
    {
      "cell_type": "code",
      "metadata": {
        "cellView": "form",
        "id": "t0nTLQjUzeKO",
        "colab": {
          "base_uri": "https://localhost:8080/"
        },
        "outputId": "65515a80-3cf1-4c39-bd6e-954978602670"
      },
      "source": [
        "#@title Løsningsforslag (klik for at vise)\n",
        "# Her er et eksempel på en løsning. Din tekst vil selvfølgelig være anderledes!\n",
        "print(\"Mit navn er Mette\")\n",
        "print(\"Min yndlingsdanske mad er stegt flæsk med persillesovs\")\n",
        "print(\"Jeg er fra København\")"
      ],
      "execution_count": 3,
      "outputs": [
        {
          "output_type": "stream",
          "name": "stdout",
          "text": [
            "Mit navn er Mette\n",
            "Min yndlingsdanske mad er stegt flæsk med persillesovs\n",
            "Jeg er fra København\n"
          ]
        }
      ]
    },
    {
      "cell_type": "markdown",
      "metadata": {
        "id": "ypObW5I4zeKO"
      },
      "source": [
        "Rigtig godt gået! Du har nu skrevet og kørt dit første program. Det næste, vi skal lære, er en af de mest fundamentale og vigtige idéer i al programmering: **variabler**.\n",
        "\n",
        "## Modul 1: Navngivne Kasser (Variabler og Datatyper)\n",
        "\n",
        "Indtil videre har vi kun bedt computeren om at skrive tekst, som vi har givet den direkte i `print()`-kommandoen. Men hvad nu hvis vi gerne vil gemme information og bruge den igen senere? Forestil dig, at du skriver et program, der skal huske en brugers navn, alder eller score i et spil. Det ville være upraktisk at skulle skrive informationen ind igen og igen.\n",
        "\n",
        "Her kommer variabler ind i billedet.\n",
        "\n",
        "### Analogien: En Navngiven Kasse\n",
        "\n",
        "Den nemmeste måde at tænke på en variabel er som **en navngiven kasse**. Det er en beholder, hvor du kan opbevare én enkelt information.\n",
        "\n",
        "*   **Kassen har et navn** (variabelnavnet), så du nemt kan finde den igen.\n",
        "*   **Du kan putte noget i kassen** (du tildeler den en værdi).\n",
        "*   **Du kan kigge i kassen** for at se, hvad der er i den (du bruger variablen i din kode).\n",
        "*   **Du kan udskifte indholdet** med noget nyt (du kan ændre variablens værdi).\n",
        "\n",
        "I Python opretter vi en variabel (en kasse) ved at give den et navn og bruge lighedstegnet (`=`) til at putte en værdi i den.\n",
        "\n",
        "`navn_på_kasse = værdi`\n",
        "\n",
        "#### Gode vaner: Navngivning af variabler\n",
        "At give dine \"kasser\" gode navne er en af de vigtigste vaner at lære. Det gør din kode meget nemmere at læse for dig selv og andre. Her er et par simple regler:\n",
        "*   **Brug beskrivende navne:** `kunde_alder` er meget bedre end `x`.\n",
        "*   **Brug `snake_case`:** I Python er standarden at skrive variabelnavne med små bogstaver og adskille ord med en underscore (`_`). F.eks. `min_første_variabel`.\n",
        "*   **Start ikke med et tal:** `1_bil` er et ugyldigt navn, men `bil_1` er fint.\n",
        "*   **Undgå specialtegn:** Hold dig til bogstaver, tal og underscores.\n",
        "\n",
        "Lad os se på de forskellige typer af \"ting\", vi kan putte i vores kasser. Disse kaldes **datatyper**. Vi starter med den, du allerede har mødt: tekst.\n",
        "\n",
        "### Strings (Tekst)\n",
        "\n",
        "I programmering kaldes et stykke tekst for en **string**. Det kan være et enkelt bogstav, et ord, en sætning eller en hel bog. Det vigtigste er, at vi altid skal fortælle Python, at noget er en string, ved at pakke det ind i citationstegn (`\" \"`) eller apostroffer (`' '`).\n",
        "\n",
        "#### Opret og brug en string-variabel\n",
        "\n",
        "Her opretter jeg en variabel (en kasse) ved navn `hilsen`. Jeg putter teksten \"Goddag, Danmark!\" ind i den. Derefter bruger jeg `print()` til at kigge i kassen og skrive indholdet ud på skærmen."
      ]
    },
    {
      "cell_type": "code",
      "metadata": {
        "id": "-gao1WwRzeKP",
        "colab": {
          "base_uri": "https://localhost:8080/"
        },
        "outputId": "9ce24800-acae-4734-a6c0-8e9e98d8bc8a"
      },
      "source": [
        "# 1. Opret en variabel ved navn 'hilsen' og tildel den en tekstværdi.\n",
        "hilsen = \"Goddag, Danmark!\"\n",
        "\n",
        "# 2. Brug print() til at vise den værdi, der er gemt i variablen 'hilsen'.\n",
        "print(hilsen)"
      ],
      "execution_count": 4,
      "outputs": [
        {
          "output_type": "stream",
          "name": "stdout",
          "text": [
            "Goddag, Danmark!\n"
          ]
        }
      ]
    },
    {
      "cell_type": "markdown",
      "metadata": {
        "id": "ai2DRYQ5zeKP"
      },
      "source": [
        "#### Interpretation\n",
        "\n",
        "Som du kan se, er outputtet `Goddag, Danmark!`. Læg mærke til, at vi ikke skrev `print(\"Goddag, Danmark!\")`. I stedet skrev vi `print(hilsen)`. Da `hilsen` ikke er i citationstegn, forstår Python, at det ikke er selve teksten \"hilsen\", vi vil skrive ud. I stedet forstår den, at den skal finde kassen med navnet `hilsen` og vise os det, der er indeni. Dette er utroligt nyttigt, fordi vi nu kan ændre indholdet af `hilsen` ét sted, og alle de steder, vi bruger variablen, vil automatisk blive opdateret.\n",
        "\n",
        "#### Ændr værdien i en kasse\n",
        "\n",
        "Herunder har jeg oprettet en variabel `favorit_by` og gemt navnet på en by i den. Din opgave er at ændre værdien til *din* yndlingsby. Erstat \"Aarhus\" med en anden by, og kør derefter cellen for at se resultatet."
      ]
    },
    {
      "cell_type": "code",
      "metadata": {
        "id": "5Bqj-rXEzeKQ",
        "colab": {
          "base_uri": "https://localhost:8080/"
        },
        "outputId": "03aa151d-2c63-4cf5-f029-5e07af771668"
      },
      "source": [
        "# Ændr teksten \"Aalborg\" til din egen yndlingsby\n",
        "favorit_by = \"Aalborg\"\n",
        "\n",
        "# Denne linje bruger variablen til at printe en sætning. Du behøver ikke ændre den.\n",
        "print(\"Min yndlingsby er helt klart \" + favorit_by)"
      ],
      "execution_count": 5,
      "outputs": [
        {
          "output_type": "stream",
          "name": "stdout",
          "text": [
            "Min yndlingsby er helt klart Aalborg\n"
          ]
        }
      ]
    },
    {
      "cell_type": "markdown",
      "metadata": {
        "id": "MH5031QOzeKQ"
      },
      "source": [
        "#### Hvad skete der?\n",
        "\n",
        "Perfekt! Du har nu set, hvordan man kan ændre værdien af en variabel. Læg mærke til, hvordan vi kan \"lægge tekst sammen\" med `+` tegnet. Dette kaldes *konkatenering*. **Vigtig advarsel:** Dette virker kun, når du kombinerer en string med en *anden* string. Hvis du prøver at bruge `+` til at kombinere en string med et tal, vil du få en `TypeError`. Det ser vi mere på senere.\n",
        "\n",
        "### En smartere måde at printe på: f-strings\n",
        "\n",
        "Ofte vil vi gerne udskrive en sætning, der blander almindelig tekst med værdierne fra vores variabler. At bruge `+` kan hurtigt blive rodet. Python har en fantastisk funktion til dette, der kaldes en **f-string**.\n",
        "\n",
        "Sådan virker det:\n",
        "\n",
        "1.  Start din tekststreng med bogstavet `f` lige før det første citationstegn.\n",
        "2.  Når du vil indsætte værdien fra en variabel, skriver du navnet på variablen inde i krøllede parenteser `{}`.\n",
        "\n",
        "#### Brug en f-string\n",
        "\n",
        "Se, hvor meget pænere og mere læseligt det er at bygge en sætning med en f-string."
      ]
    },
    {
      "cell_type": "code",
      "metadata": {
        "id": "toxhPZruzeKQ",
        "colab": {
          "base_uri": "https://localhost:8080/"
        },
        "outputId": "7780ce77-a1d0-4118-8084-16f9145349b6"
      },
      "source": [
        "navn = \"Anders\"\n",
        "alder = 42\n",
        "\n",
        "# Brug af en f-string til at kombinere tekst og variabler\n",
        "print(f\"Hej, mit navn er {navn}, og jeg er {alder} år gammel.\")"
      ],
      "execution_count": 6,
      "outputs": [
        {
          "output_type": "stream",
          "name": "stdout",
          "text": [
            "Hej, mit navn er Anders, og jeg er 42 år gammel.\n"
          ]
        }
      ]
    },
    {
      "cell_type": "markdown",
      "metadata": {
        "id": "POwiv2UuzeKR"
      },
      "source": [
        "#### Hvad skete der?\n",
        "\n",
        "Outputtet er en pæn, sammenhængende sætning. Python erstattede automatisk `{navn}` med indholdet af `navn`-variablen (\"Anders\") og `{alder}` med indholdet af `alder`-variablen (42). F-strings er den moderne og foretrukne måde at formatere tekst på i Python.\n",
        "\n",
        "### ✍️ Din tur! (Sjov Historie)\n",
        "\n",
        "Nu skal du bruge alt, hvad du lige har lært om string-variabler og f-strings, til at lave en lille \"Sjov Historie\" (også kendt som Mad Libs).\n",
        "\n",
        "**Din opgave:**\n",
        "\n",
        "1.  Opret fire variabler:\n",
        "    *   `navn` (en persons navn)\n",
        "    *   `by` (en dansk by)\n",
        "    *   `tillægsord` (et tillægsord, f.eks. \"grøn\", \"sjov\", \"stor\")\n",
        "    *   `udsagnsord` (et udsagnsord i nutid, f.eks. \"løbe\", \"spise\", \"kode\")\n",
        "2.  Giv hver variabel en værdi (en string).\n",
        "3.  Brug en f-string og `print()` til at skrive den følgende historie ud, hvor dine variabler er sat ind på de rigtige pladser:\n",
        "    *   \"[navn] tog til [by] for at [udsagnsord] en [tillægsord] pølse.\"\n",
        "\n",
        "Skriv din kode i cellen herunder."
      ]
    },
    {
      "cell_type": "code",
      "metadata": {
        "id": "p3ugn00jzeKR",
        "colab": {
          "base_uri": "https://localhost:8080/"
        },
        "outputId": "691890db-ab61-45d1-c2be-91a4d8599f85"
      },
      "source": [
        "# Trin 1: Opret dine fire variabler her\n",
        "\n",
        "\n",
        "# Trin 2 & 3: Brug en f-string til at printe historien\n",
        "print(f\"...\")"
      ],
      "execution_count": 7,
      "outputs": [
        {
          "output_type": "stream",
          "name": "stdout",
          "text": [
            "...\n"
          ]
        }
      ]
    },
    {
      "cell_type": "markdown",
      "metadata": {
        "id": "iKuQcKKszeKS"
      },
      "source": [
        "Godt arbejde! Dette er et perfekt eksempel på, hvordan vi kan adskille vores data (variablerne) fra vores præsentation (f-stringen). Hvis du vil fortælle en ny historie, behøver du kun at ændre værdierne i dine variabler øverst – selve `print()`-linjen kan forblive den samme.\n",
        "\n",
        "Herunder er et eksempel på en løsning:"
      ]
    },
    {
      "cell_type": "code",
      "metadata": {
        "id": "Tx8LGKXjzeKS",
        "colab": {
          "base_uri": "https://localhost:8080/"
        },
        "outputId": "eb806239-1e83-43bf-c0f1-c3b7b7f0bead"
      },
      "source": [
        "#@title Løsningsforslag (klik for at vise)\n",
        "# Trin 1: Opret dine fire variabler her\n",
        "navn = \"Børge\"\n",
        "by = \"Odense\"\n",
        "tillægsord = \"gigantisk\"\n",
        "udsagnsord = \"male\"\n",
        "\n",
        "# Trin 2 & 3: Brug en f-string til at printe historien\n",
        "print(f\"{navn} tog til {by} for at {udsagnsord} en {tillægsord} pølse.\")"
      ],
      "execution_count": 8,
      "outputs": [
        {
          "output_type": "stream",
          "name": "stdout",
          "text": [
            "Børge tog til Odense for at male en gigantisk pølse.\n"
          ]
        }
      ]
    },
    {
      "cell_type": "markdown",
      "metadata": {
        "id": "DHuRxBMLzeKT"
      },
      "source": [
        "### Tal: Integers (Heltal) & Floats (Kommatal)\n",
        "\n",
        "Selvfølgelig kan vi gemme andet end tekst i vores kasser. En af de mest almindelige ting at arbejde med i programmering er tal. Python har to primære tal-typer:\n",
        "\n",
        "1.  **Integers** (heltal): Dette er hele tal uden decimaler, f.eks. `10`, `-5`, `0`, `1234`.\n",
        "2.  **Floats** (kommatal): Dette er tal med decimaler. **Vigtigt:** I Python (og de fleste andre programmeringssprog) bruger vi **punktum `.`** som decimal-separator, ikke komma `,`. F.eks. `3.14`, `-0.5`, `99.95`.\n",
        "\n",
        "Når du tildeler en talværdi til en variabel, skal du **ikke** bruge citationstegn.\n",
        "\n",
        "*   `min_alder = 29` (Dette er tallet 29, en integer)\n",
        "*   `min_by = \"29\"` (Dette er teksten \"29\", en string)\n",
        "\n",
        "Med tal kan vi selvfølgelig udføre matematiske beregninger. De mest almindelige operatorer er:\n",
        "* `+` (plus)\n",
        "* `-` (minus)\n",
        "* `*` (gange)\n",
        "* `/` (dividere)\n",
        "\n",
        "#### Beregninger med tal-variabler\n",
        "\n",
        "Lad os sige, vi skal i supermarkedet. Jeg opretter variabler for antallet af en vare og prisen pr. styk. Derefter beregner jeg den samlede pris."
      ]
    },
    {
      "cell_type": "code",
      "metadata": {
        "id": "ya5lKDhqzeKT",
        "colab": {
          "base_uri": "https://localhost:8080/"
        },
        "outputId": "debe323b-3c8c-451c-b71d-8d4ed2fd4984"
      },
      "source": [
        "# Opretter en integer-variabel\n",
        "antal_kartoner_mælk = 3\n",
        "\n",
        "# Opretter en float-variabel (husk punktum!)\n",
        "pris_pr_karton = 12.50\n",
        "\n",
        "# Beregner den samlede pris ved at gange de to variabler\n",
        "samlet_pris = antal_kartoner_mælk * pris_pr_karton\n",
        "\n",
        "# Bruger en f-string til at printe resultatet pænt\n",
        "print(f\"Det bliver {samlet_pris} kr. i alt, tak.\")"
      ],
      "execution_count": 9,
      "outputs": [
        {
          "output_type": "stream",
          "name": "stdout",
          "text": [
            "Det bliver 37.5 kr. i alt, tak.\n"
          ]
        }
      ]
    },
    {
      "cell_type": "markdown",
      "metadata": {
        "id": "R0VrH4JPzeKT"
      },
      "source": [
        "#### Interpretation\n",
        "\n",
        "Programmet regnede `3 * 12.50` ud og gemte resultatet, `37.5`, i variablen `samlet_pris`. Derefter blev denne værdi indsat i vores f-string. Resultatet af en beregning mellem en integer og en float vil altid være en float.\n",
        "\n",
        "#### Regn på en opskrift\n",
        "\n",
        "Vi skal bage boller, og opskriften siger, at vi skal bruge 50 gram gær pr. liter vand. I koden herunder skal du færdiggøre beregningen for at finde ud af, hvor meget gær vi skal bruge i alt."
      ]
    },
    {
      "cell_type": "code",
      "metadata": {
        "id": "fTEc4sSFzeKT"
      },
      "source": [
        "# Antal liter vand vi bruger\n",
        "liter_vand = 2.5\n",
        "\n",
        "# Gram gær pr. liter\n",
        "gær_pr_liter = 50\n",
        "\n",
        "# Udfyld beregningen herunder for at finde den samlede mængde gær\n",
        "# Erstat '...' med den rigtige udregning\n",
        "samlet_gær = ...\n",
        "\n",
        "print(f\"Vi skal bruge {samlet_gær} gram gær i alt.\")"
      ],
      "execution_count": null,
      "outputs": []
    },
    {
      "cell_type": "markdown",
      "metadata": {
        "id": "7xQn9MvOzeKU"
      },
      "source": [
        "#### Hvad skete der?\n",
        "\n",
        "Ved at skrive `liter_vand * gær_pr_liter` bad du computeren om at gange værdierne i de to kasser og gemme resultatet i en ny kasse, `samlet_gær`. Dette viser, hvordan vi kan bygge komplekse beregninger op ved at kombinere simple variabler.\n",
        "\n",
        "### ✍️ Din tur! (Cykel-lommeregner)\n",
        "\n",
        "Danmark er et cykelland! Lad os lave et lille program, der kan beregne gennemsnitshastigheden på en cykeltur.\n",
        "\n",
        "Formlen for hastighed er: `Hastighed = Distance / Tid`\n",
        "\n",
        "**Din opgave:**\n",
        "\n",
        "1.  Opret en variabel `distance_km` og giv den en værdi med decimaler (f.eks. `25.5`).\n",
        "2.  Opret en variabel `tid_timer` og giv den en værdi med decimaler (f.eks. `1.5` for halvanden time).\n",
        "3.  Opret en tredje variabel, `gennemsnitsfart`, og beregn resultatet ved at dividere distancen med tiden.\n",
        "4.  Brug `print()` og en f-string til at skrive et pænt resultat ud, f.eks. \"Din gennemsnitsfart var {gennemsnitsfart} km/t.\"\n",
        "\n",
        "Skriv din kode i cellen herunder."
      ]
    },
    {
      "cell_type": "code",
      "metadata": {
        "id": "1AkpG-gezeKU"
      },
      "source": [
        "# Trin 1 & 2: Opret dine variabler for distance og tid\n",
        "\n",
        "\n",
        "# Trin 3: Beregn gennemsnitsfarten\n",
        "\n",
        "\n",
        "# Trin 4: Print resultatet"
      ],
      "execution_count": null,
      "outputs": []
    },
    {
      "cell_type": "markdown",
      "metadata": {
        "id": "RE90R6CfzeKU"
      },
      "source": [
        "Fremragende! Du har nu lavet en praktisk lommeregner. Prøv at ændre værdierne for `distance_km` og `tid_timer` og kør cellen igen. Du vil se, at resultatet opdateres med det samme, uden at du behøver at ændre i selve beregningen eller print-sætningen. Dette er styrken ved at bruge variabler!"
      ]
    },
    {
      "cell_type": "code",
      "metadata": {
        "cellView": "form",
        "id": "8pRsywTNzeKU",
        "colab": {
          "base_uri": "https://localhost:8080/"
        },
        "outputId": "7bd52c77-4db3-4d04-ead0-0e3410aae78d"
      },
      "source": [
        "#@title Løsningsforslag (klik for at vise)\n",
        "# Trin 1 & 2: Opret dine variabler for distance og tid\n",
        "distance_km = 25.5\n",
        "tid_timer = 1.5\n",
        "\n",
        "# Trin 3: Beregn gennemsnitsfarten\n",
        "gennemsnitsfart = distance_km / tid_timer\n",
        "\n",
        "# Trin 4: Print resultatet\n",
        "print(f\"Din gennemsnitsfart var {gennemsnitsfart} km/t.\")"
      ],
      "execution_count": 10,
      "outputs": [
        {
          "output_type": "stream",
          "name": "stdout",
          "text": [
            "Din gennemsnitsfart var 17.0 km/t.\n"
          ]
        }
      ]
    },
    {
      "cell_type": "markdown",
      "metadata": {
        "id": "-k-_8yWjzeKU"
      },
      "source": [
        "### En vigtig færdighed: At skifte type\n",
        "\n",
        "Nogle gange har vi data i én type, men skal bruge det som en anden. Forestil dig, at du har tallet `25` gemt som en string: `alder_som_tekst = \"25\"`. Hvis du prøver at lægge 1 til, får du en fejl, fordi man ikke kan lægge et tal til en tekst.\n",
        "\n",
        "Python giver os simple funktioner til at konvertere mellem typer:\n",
        "* `int()`: Prøver at lave noget om til en integer.\n",
        "* `float()`: Prøver at lave noget om til en float.\n",
        "* `str()`: Laver noget om til en string.\n",
        "\n",
        "#### Konvertering i praksis"
      ]
    },
    {
      "cell_type": "code",
      "metadata": {
        "id": "Mb_4vhq3zeKU",
        "colab": {
          "base_uri": "https://localhost:8080/"
        },
        "outputId": "9233f089-4f41-4ebf-b4cd-0eaa02240b18"
      },
      "source": [
        "# Her har vi et tal gemt som tekst\n",
        "postnummer_tekst = \"2100\"\n",
        "print(f\"Variablen 'postnummer_tekst' indeholder teksten: {postnummer_tekst}\")\n",
        "\n",
        "# Vi kan konvertere det til et rigtigt tal, så vi kan regne med det\n",
        "postnummer_tal = int(postnummer_tekst)\n",
        "print(f\"Efter konvertering med int() er det nu tallet: {postnummer_tal}\")\n",
        "\n",
        "# Nu kan vi udføre en beregning\n",
        "print(f\"Beregning: {postnummer_tal} + 100 = {postnummer_tal + 100}\")"
      ],
      "execution_count": 11,
      "outputs": [
        {
          "output_type": "stream",
          "name": "stdout",
          "text": [
            "Variablen 'postnummer_tekst' indeholder teksten: 2100\n",
            "Efter konvertering med int() er det nu tallet: 2100\n",
            "Beregning: 2100 + 100 = 2200\n"
          ]
        }
      ]
    },
    {
      "cell_type": "markdown",
      "metadata": {
        "id": "cwuIG8cozeKV"
      },
      "source": [
        "#### Hvad skete der?\n",
        "Vi brugte `int()` til at konvertere en string, der indeholdt et heltal, til en rigtig integer, som vi kan regne med. Omvendt kan vi bruge `str()` til at konvertere et tal til en string, f.eks. hvis vi vil sætte det sammen med anden tekst ved hjælp af `+`. Dette er en kritisk færdighed, især når man arbejder med input fra brugere, som ofte kommer ind som tekst.\n",
        "\n",
        "### ✍️ Din tur! (Typekonvertering)\n",
        "\n",
        "Nu skal du øve dig i at konvertere datatyper. Forestil dig, at du har en pris på en vare som tekst, og du skal beregne den samlede pris for flere styk.\n",
        "\n",
        "**Din opgave:**\n",
        "\n",
        "1.  Opret en variabel `pris_som_tekst` og giv den værdien `\"199.50\"`.\n",
        "2.  Opret en variabel `antal` og giv den værdien `3`.\n",
        "3.  Konverter `pris_som_tekst` til et kommatal (`float`) og gem resultatet i en ny variabel, `pris_som_tal`.\n",
        "4.  Beregn den samlede pris ved at gange `pris_som_tal` med `antal`. Gem resultatet i en variabel `samlet_pris`.\n",
        "5.  Print en pæn sætning, der viser resultatet, f.eks. ved hjælp af en f-string."
      ]
    },
    {
      "cell_type": "code",
      "metadata": {
        "id": "9q0D6V1mzeKV"
      },
      "source": [
        "# Trin 1 & 2: Opret dine start-variabler\n",
        "pris_som_tekst = \"199.50\"\n",
        "antal = 3\n",
        "\n",
        "# Trin 3: Konverter prisen fra tekst til et tal\n",
        "\n",
        "\n",
        "# Trin 4: Beregn den samlede pris\n",
        "\n",
        "\n",
        "# Trin 5: Print resultatet"
      ],
      "execution_count": null,
      "outputs": []
    },
    {
      "cell_type": "markdown",
      "metadata": {
        "id": "cEcI8Q8UzeKV"
      },
      "source": [
        "Eksempel på løsning herudner"
      ]
    },
    {
      "cell_type": "code",
      "metadata": {
        "cellView": "form",
        "id": "83hQUyFZzeKW",
        "colab": {
          "base_uri": "https://localhost:8080/"
        },
        "outputId": "4247ab6b-0205-4c79-df25-d544627805bd"
      },
      "source": [
        "#@title Løsningsforslag (klik for at vise)\n",
        "# Trin 1 & 2: Opret dine start-variabler\n",
        "pris_som_tekst = \"199.50\"\n",
        "antal = 3\n",
        "\n",
        "# Trin 3: Konverter prisen fra tekst til et tal\n",
        "pris_som_tal = float(pris_som_tekst)\n",
        "\n",
        "# Trin 4: Beregn den samlede pris\n",
        "samlet_pris = pris_som_tal * antal\n",
        "\n",
        "# Trin 5: Print resultatet\n",
        "print(f\"Den samlede pris for {antal} styk er: {samlet_pris} kr.\")"
      ],
      "execution_count": 12,
      "outputs": [
        {
          "output_type": "stream",
          "name": "stdout",
          "text": [
            "Den samlede pris for 3 styk er: 598.5 kr.\n"
          ]
        }
      ]
    },
    {
      "cell_type": "markdown",
      "metadata": {
        "id": "ateZKCDazeKW"
      },
      "source": [
        "Du har nu lært det absolut mest grundlæggende i programmering: at gemme og manipulere data ved hjælp af variabler. I næste modul skal vi se på, hvordan vi kan få vores program til at træffe beslutninger.\n",
        "\n",
        "## Modul 2: Stil Spørgsmål til Din Kode (Betingelser)\n",
        "\n",
        "I det forrige modul lærte du, hvordan man gemmer information i \"navngivne kasser\", altså variabler. Vores programmer kan nu huske ting som navne, byer og tal. Men indtil videre kører vores programmer bare ligeud, fra top til bund, og udfører hver eneste instruktion, vi giver dem.\n",
        "\n",
        "Men hvad nu hvis vi gerne vil have vores program til at træffe beslutninger? Hvad nu hvis det skal gøre én ting, hvis det regner, og en anden ting, hvis solen skinner? Eller give en rabat, hvis en kunde er over 65 år, men ikke hvis de er yngre?\n",
        "\n",
        "For at kunne gøre dette, skal vi lære at stille spørgsmål til vores kode. Dette kaldes **betinget logik**, og det er en af de mest magtfulde idéer i al programmering.\n",
        "\n",
        "### Analogien: En Vejgaffel\n",
        "\n",
        "Forestil dig, at du kører ned ad en vej, og du kommer til en **vejgaffel**. Du kan ikke køre ad begge veje på én gang. Du er nødt til at træffe et valg baseret på en betingelse. Måske spørger du dig selv: \"Er min destination til venstre?\". Hvis svaret er \"ja\", drejer du til venstre. Hvis svaret er \"nej\", fortsætter du ligeud eller drejer til højre.\n",
        "\n",
        "`if-sætninger` i Python fungerer præcis som en vejgaffel. De lader dit program stille et ja/nej-spørgsmål og vælge en bestemt vej (en blok af kode), der skal køres, baseret på svaret.\n",
        "\n",
        "### Ja eller Nej: `True` og `False`\n",
        "\n",
        "En computer forstår ikke komplekse svar. Når vi stiller et spørgsmål i vores kode, skal svaret altid kunne koges ned til et simpelt \"ja\" eller \"nej\". I programmering kalder vi disse to svar for:\n",
        "\n",
        "*   `True` (sandt, ja)\n",
        "*   `False` (falsk, nej)\n",
        "\n",
        "Disse to værdier, `True` og `False`, kaldes **booleans**. De er fundamentale for at kunne træffe beslutninger. Lad os se, hvordan vi kan stille spørgsmål, der resulterer i enten `True` eller `False`.\n",
        "\n",
        "### Sammenligningsoperatorer: Værktøjerne til at stille spørgsmål\n",
        "\n",
        "For at stille spørgsmål om vores variabler bruger vi **sammenligningsoperatorer**. De sammenligner værdier og returnerer enten `True` eller `False`.\n",
        "\n",
        "Her er de vigtigste:\n",
        "\n",
        "| Operator | Betydning                  | Eksempel        | Resultat |\n",
        "| :------- | :-------------------------- | :-------------- | :------- |\n",
        "| `==`     | Er lig med?                 | `5 == 5`        | `True`   |\n",
        "| `!=`     | Er *ikke* lig med?          | `5 != 6`        | `True`   |\n",
        "| `>`      | Er større end?              | `10 > 5`        | `True`   |\n",
        "| `<`      | Er mindre end?              | `10 < 5`        | `False`  |\n",
        "| `>=`     | Er større end eller lig med? | `5 >= 5`        | `True`   |\n",
        "| `<=`     | Er mindre end eller lig med? | `10 <= 5`       | `False`  |\n",
        "\n",
        "**Vigtig note:** Læg mærke til `==` (to lighedstegn). Dette er en *sammenligning* (\"er det lig med?\"). Et enkelt lighedstegn, `=`, er en *tildeling* (\"put denne værdi i kassen\"). Det er en meget almindelig begynderfejl at blande dem sammen!\n",
        "\n",
        "#### Stil spørgsmål med operatorer\n",
        "\n",
        "Lad os oprette et par variabler og stille nogle spørgsmål til dem. Vi printer resultatet direkte, så vi kan se, om svaret er `True` eller `False`."
      ]
    },
    {
      "cell_type": "code",
      "metadata": {
        "id": "WfJkrLbuzeKX",
        "colab": {
          "base_uri": "https://localhost:8080/"
        },
        "outputId": "68cd5333-9947-4266-eeec-15931482ef24"
      },
      "source": [
        "min_alder = 30\n",
        "din_alder = 25\n",
        "\n",
        "# Spørgsmål 1: Er min alder større end din alder?\n",
        "print(f\"Er min alder større end din? Svar: {min_alder > din_alder}\")\n",
        "\n",
        "# Spørgsmål 2: Er vores aldre ens?\n",
        "print(f\"Er vores aldre ens? Svar: {min_alder == din_alder}\")\n",
        "\n",
        "# Spørgsmål 3: Er din alder mindre end eller lig med 25?\n",
        "print(f\"Er din alder 25 eller yngre? Svar: {din_alder <= 25}\")"
      ],
      "execution_count": 13,
      "outputs": [
        {
          "output_type": "stream",
          "name": "stdout",
          "text": [
            "Er min alder større end din? Svar: True\n",
            "Er vores aldre ens? Svar: False\n",
            "Er din alder 25 eller yngre? Svar: True\n"
          ]
        }
      ]
    },
    {
      "cell_type": "markdown",
      "metadata": {
        "id": "l-YvJAVQzeKX"
      },
      "source": [
        "#### Hvad skete der?\n",
        "\n",
        "Se outputtet. Hver `print`-linje stiller et spørgsmål, og computeren svarer ærligt med `True` eller `False`.\n",
        "1.  `min_alder > din_alder` bliver til `30 > 25`, hvilket er sandt. Derfor er resultatet `True`.\n",
        "2.  `min_alder == din_alder` bliver til `30 == 25`, hvilket er falsk. Derfor er resultatet `False`.\n",
        "3.  `din_alder <= 25` bliver til `25 <= 25`, hvilket er sandt (fordi den er lig med). Derfor er resultatet `True`.\n",
        "\n",
        "### Kombination af spørgsmål: Logiske operatorer\n",
        "\n",
        "Nogle gange er ét spørgsmål ikke nok. Hvad nu hvis vi vil tjekke, om en person er teenager (dvs. ældre end 12 **og** yngre end 20)? Her har vi brug for at kombinere to betingelser. Det gør vi med logiske operatorer:\n",
        "\n",
        "*   `and`: Begge betingelser skal være `True` for, at det samlede resultat er `True`.\n",
        "*   `or`: Mindst én af betingelserne skal være `True` for, at det samlede resultat er `True`.\n",
        "*   `not`: Vender resultatet om (`not True` bliver `False`).\n",
        "\n",
        "#### Brug af `and` og `or`"
      ]
    },
    {
      "cell_type": "code",
      "metadata": {
        "id": "1Y0LJyu0zeKX"
      },
      "source": [
        "alder = 15\n",
        "har_kørekort = False\n",
        "\n",
        "# Er personen en teenager? (alder skal være > 12 OG < 20)\n",
        "er_teenager = alder > 12 and alder < 20\n",
        "print(f\"Er personen en teenager? {er_teenager}\")\n",
        "\n",
        "# Må personen køre bil? (skal være mindst 18 ELLER have kørekort)\n",
        "# (Dette er et lidt fjollet eksempel, men det viser 'or')\n",
        "må_køre = alder >= 18 or har_kørekort == True\n",
        "print(f\"Må personen køre bil? {må_køre}\")"
      ],
      "execution_count": null,
      "outputs": []
    },
    {
      "cell_type": "markdown",
      "metadata": {
        "id": "GNMWGB6WzeKX"
      },
      "source": [
        "#### Hvad skete der?\n",
        "For `er_teenager` er `15 > 12` `True` og `15 < 20` er også `True`. Fordi begge sider af `and` er `True`, bliver det samlede resultat `True`. For `må_køre` er `15 >= 18` `False` og `har_kørekort == True` er også `False`. Fordi ingen af siderne af `or` er `True`, bliver resultatet `False`.\n",
        "\n",
        "Nu hvor vi ved, hvordan man får et `True` eller `False` svar, kan vi bruge det til at styre vores program ned ad forskellige veje.\n",
        "\n",
        "### `if`-sætningen: Den første vej\n",
        "\n",
        "Den simpleste form for en vejgaffel er en `if`-sætning. Den siger: \"**Hvis** en betingelse er sand, **så** udfør en bestemt blok af kode.\"\n",
        "\n",
        "Strukturen ser sådan her ud:"
      ]
    },
    {
      "cell_type": "code",
      "metadata": {
        "id": "3pJZ4QXNzeKX"
      },
      "source": [
        "if betingelse:\n",
        "    # Denne kode køres KUN, hvis betingelsen er True.\n",
        "    # Læg mærke til indrykningen! Alt, der er rykket ind her,\n",
        "    # hører til if-sætningen."
      ],
      "execution_count": null,
      "outputs": []
    },
    {
      "cell_type": "markdown",
      "metadata": {
        "id": "XTt6i1z8zeKX"
      },
      "source": [
        "**Indrykning er altafgørende i Python!** Det er sådan, Python ved, hvilken kode der hører til `if`-sætningen. Man bruger typisk 4 mellemrum (eller et tryk på Tab-tasten) til at rykke koden ind.\n",
        "\n",
        "#### Skal jeg tage en paraply med?\n",
        "\n",
        "Lad os lave et program, der beslutter, om vi skal tage en paraply med, baseret på en variabel."
      ]
    },
    {
      "cell_type": "code",
      "metadata": {
        "id": "T_sBr3SGzeKX"
      },
      "source": [
        "# Vi opretter en variabel, der beskriver vejret\n",
        "det_regner = True\n",
        "\n",
        "# Nu kommer vores vejgaffel (if-sætningen)\n",
        "if det_regner == True:\n",
        "    print(\"Husk paraplyen, når du går ud!\")\n",
        "\n",
        "print(\"Hav en god dag!\")"
      ],
      "execution_count": null,
      "outputs": []
    },
    {
      "cell_type": "markdown",
      "metadata": {
        "id": "LHkLnWwyzeKY"
      },
      "source": [
        "#### Hvad skete der?\n",
        "\n",
        "Fordi variablen `det_regner` er `True`, er betingelsen `det_regner == True` også `True`. Derfor kører programmet den indrykkede kodelinje og printer \"Husk paraplyen, når du går ud!\". Linjen \"Hav en god dag!\" bliver printet uanset hvad, fordi den *ikke* er rykket ind og derfor ikke er en del af `if`-sætningen.\n",
        "\n",
        "Prøv at ændre `det_regner = True` til `det_regner = False` og kør koden igen. Nu vil paraply-beskeden forsvinde!\n",
        "\n",
        "*Pro-tip: En boolean-variabel er allerede `True` eller `False` i sig selv, så vi behøver faktisk ikke skrive `== True`. Koden `if det_regner:` er kortere og betyder præcis det samme.*\n",
        "\n",
        "### `if-else`-sætningen: To forskellige veje\n",
        "\n",
        "`if`-sætningen er god, men den giver os kun én mulighed: hvad vi skal gøre, hvis betingelsen er sand. Hvad hvis vi vil gøre noget andet, hvis den er falsk? Her bruger vi en `else`-sætning (ellers).\n",
        "\n",
        "Strukturen ser sådan her ud:"
      ]
    },
    {
      "cell_type": "code",
      "metadata": {
        "id": "iwH7AOhHzeKY"
      },
      "source": [
        "if betingelse:\n",
        "    # Kode, der køres, hvis betingelsen er True\n",
        "else:\n",
        "    # Kode, der køres, hvis betingelsen er False"
      ],
      "execution_count": null,
      "outputs": []
    },
    {
      "cell_type": "markdown",
      "metadata": {
        "id": "w8QWatY3zeKY"
      },
      "source": [
        "Programmet vil *altid* køre enten `if`-blokken eller `else`-blokken, men aldrig begge to.\n",
        "\n",
        "#### Jeg gør: Er du gammel nok?\n",
        "\n",
        "Lad os lave et program, der tjekker, om en person er myndig (18 år eller ældre)."
      ]
    },
    {
      "cell_type": "code",
      "metadata": {
        "id": "8keRjURKzeKY"
      },
      "source": [
        "alder = 20\n",
        "\n",
        "if alder >= 18:\n",
        "    print(\"Du er vist gammel nok og har adgang.\")\n",
        "else:\n",
        "    print(\"Beklager, du er ikke gammel nok. Prøv igen næste år\")"
      ],
      "execution_count": null,
      "outputs": []
    },
    {
      "cell_type": "markdown",
      "metadata": {
        "id": "IA6qWb5ozeKY"
      },
      "source": [
        "#### Interpretation\n",
        "\n",
        "Her er betingelsen `alder >= 18`. Da `alder` er 20, bliver spørgsmålet `20 >= 18`, hvilket er `True`. Derfor kører programmet `if`-blokken og printer den første besked. `else`-blokken bliver fuldstændig ignoreret.\n",
        "\n",
        "Hvis du ændrer `alder` til f.eks. `16`, vil betingelsen `16 >= 18` være `False`. Programmet vil så springe `if`-blokken over og i stedet køre `else`-blokken.\n",
        "\n",
        "#### Vi gør: Er der nok på lager?\n",
        "\n",
        "I kodecellen herunder har vi en variabel for lagerbeholdningen af en vare. Din opgave er at færdiggøre `if`-sætningen, så den tjekker, om `lagerbeholdning` er større end 0."
      ]
    },
    {
      "cell_type": "code",
      "metadata": {
        "id": "Ou2Cg1NwzeKY"
      },
      "source": [
        "lagerbeholdning = 5\n",
        "\n",
        "# Udfyld betingelsen efter 'if'. Du skal tjekke, om lagerbeholdningen er større end 0.\n",
        "if ... :\n",
        "    print(\"Varen er på lager. Du kan købe den nu.\")\n",
        "else:\n",
        "    print(\"Varen er desværre udsolgt.\")"
      ],
      "execution_count": null,
      "outputs": []
    },
    {
      "cell_type": "markdown",
      "metadata": {
        "id": "fmBNJeH0zeKY"
      },
      "source": [
        "### `if-elif-else`-kæden: Flere end to veje\n",
        "\n",
        "Nogle gange har vi brug for mere end bare to veje. Forestil dig, at vi skal vurdere temperaturen: den kan være \"varm\", \"lun\" eller \"kold\". Her har vi tre muligheder.\n",
        "\n",
        "Til dette bruger vi `elif`, som er en sammentrækning af \"else if\". Det lader os tilføje ekstra betingelser i vores vejgaffel.\n",
        "\n",
        "Strukturen ser sådan her ud:"
      ]
    },
    {
      "cell_type": "code",
      "metadata": {
        "id": "L1PpMHOBzeKY"
      },
      "source": [
        "if betingelse_1:\n",
        "    # Kør denne kode, hvis betingelse_1 er True\n",
        "elif betingelse_2:\n",
        "    # Kør denne kode, hvis betingelse_1 var False, MEN betingelse_2 er True\n",
        "else:\n",
        "    # Kør denne kode, hvis INGEN af de ovenstående betingelser var True"
      ],
      "execution_count": null,
      "outputs": []
    },
    {
      "cell_type": "markdown",
      "metadata": {
        "id": "jayV37OrzeKY"
      },
      "source": [
        "Python tjekker betingelserne fra top til bund. Så snart den finder en, der er `True`, kører den den tilhørende kodeblok og springer resten af kæden over.\n",
        "\n",
        "#### Jeg gør: Karaktergivning\n",
        "\n",
        "Lad os lave et simpelt program, der giver en feedback baseret på en pointscore."
      ]
    },
    {
      "cell_type": "code",
      "metadata": {
        "id": "dQ3owHQXzeKY"
      },
      "source": [
        "score = 85\n",
        "\n",
        "if score >= 90:\n",
        "    print(\"Fantastisk! Du fik topkarakter!\")\n",
        "elif score >= 70:\n",
        "    print(\"Godt arbejde. En solid præstation.\")\n",
        "elif score >= 50:\n",
        "    print(\"Du bestod. Bliv ved med at øve dig.\")\n",
        "else:\n",
        "    print(\"Du bestod desværre ikke denne gang. Prøv igen.\")"
      ],
      "execution_count": null,
      "outputs": []
    },
    {
      "cell_type": "markdown",
      "metadata": {
        "id": "sMPxMxtDzeKY"
      },
      "source": [
        "#### Interpretation\n",
        "\n",
        "Da `score` er 85, sker følgende:\n",
        "1.  Python tjekker `if score >= 90`. `85 >= 90` er `False`. Den springer denne blok over.\n",
        "2.  Python går videre til `elif score >= 70`. `85 >= 70` er `True`. Den kører denne blok og printer \"Godt arbejde. En solid præstation.\".\n",
        "3.  Fordi den fandt en sand betingelse, **ignorerer den fuldstændig resten af `elif`- og `else`-blokkene**, selvom `85 >= 50` teknisk set også er sandt. Den stopper ved den første, den finder.\n",
        "\n",
        "Dette er en meget vigtig pointe: Rækkefølgen af dine `if` og `elif` betingelser betyder noget!\n",
        "\n",
        "#### Vi gør: Klassificer et tal\n",
        "\n",
        "Lad os sammen bygge en `if-elif-else`-kæde. Vi har et tal og vil afgøre, om det er positivt, negativt eller nul.\n",
        "\n",
        "**Din opgave:** Udfyld de manglende betingelser i koden herunder."
      ]
    },
    {
      "cell_type": "code",
      "metadata": {
        "id": "ysigcDkFzeKZ"
      },
      "source": [
        "tal = -10\n",
        "\n",
        "# Udfyld betingelsen for at tjekke om tallet er større end 0\n",
        "if ...:\n",
        "    print(\"Tallet er positivt.\")\n",
        "# Udfyld betingelsen for at tjekke om tallet er mindre end 0\n",
        "elif ...:\n",
        "    print(\"Tallet er negativt.\")\n",
        "# Else-blokken fanger den sidste mulighed (at tallet er nul)\n",
        "else:\n",
        "    print(\"Tallet er nul.\")"
      ],
      "execution_count": null,
      "outputs": []
    },
    {
      "cell_type": "markdown",
      "metadata": {
        "id": "ciW4_LrJzeKZ"
      },
      "source": [
        "### ✍️ Your Turn! (Billetpriser i Tivoli)\n",
        "\n",
        "Nu er det din tur til at bygge et helt program med betingelser. Vi skal lave en billetautomat til Tivoli, der bestemmer prisen baseret på alder.\n",
        "\n",
        "**Din opgave:**\n",
        "\n",
        "Lav et program, der bruger en variabel `alder`. Programmet skal printe en af tre forskellige beskeder baseret på værdien i `alder`:\n",
        "\n",
        "1.  Hvis alderen er **mindre end 8**, skal programmet printe: `\"Gratis adgang for dig!\"`\n",
        "2.  Hvis alderen er **65 eller ældre**, skal programmet printe: `\"Du får pensionistrabat.\"`\n",
        "3.  For **alle andre aldre** (dvs. fra 8 op til og med 64), skal programmet printe: `\"Almindelig billetpris.\"`\n",
        "\n",
        "Brug en `if-elif-else`-kæde til at løse opgaven. Jeg har startet koden for dig. Prøv at ændre værdien af `alder` og kør din kode flere gange for at teste, at alle tre betingelser virker korrekt."
      ]
    },
    {
      "cell_type": "code",
      "metadata": {
        "id": "_k0a2gt7zeKZ"
      },
      "source": [
        "# Sæt en alder her. Prøv med f.eks. 5, 30, og 70 for at teste din kode.\n",
        "alder = 30\n",
        "\n",
        "# Skriv din if-elif-else kode herunder:\n",
        "if ...:\n",
        "    # print besked for børn under 8\n",
        "elif ...:\n",
        "    # print besked for pensionister\n",
        "else:\n",
        "    # print besked for alle andre"
      ],
      "execution_count": null,
      "outputs": []
    },
    {
      "cell_type": "markdown",
      "metadata": {
        "id": "2BGf5ormzeKZ"
      },
      "source": [
        "Fantastisk klaret! Du har nu lært at give din kode en form for intelligens. Den kan analysere data (som f.eks. en alder) og træffe beslutninger baseret på regler, du har defineret. Dette er et kæmpe skridt fremad og en fundamental byggesten i næsten alle computerprogrammer, du kan forestille dig.\n",
        "\n",
        "Hvis du vil se et forslag til en løsning, kan du kigge herunder."
      ]
    },
    {
      "cell_type": "code",
      "metadata": {
        "cellView": "form",
        "id": "_RbH6NWWzeKZ"
      },
      "source": [
        "#@title Løsningsforslag (klik for at vise)\n",
        "# Sæt en alder her. Prøv med f.eks. 5, 30, og 70 for at teste din kode.\n",
        "alder = 30\n",
        "\n",
        "# Skriv din if-elif-else kode herunder:\n",
        "if alder < 8:\n",
        "    print(\"Gratis adgang for dig!\")\n",
        "elif alder >= 65:\n",
        "    print(\"Du får pensionistrabat.\")\n",
        "else:\n",
        "    print(\"Almindelig billetpris.\")"
      ],
      "execution_count": null,
      "outputs": []
    },
    {
      "cell_type": "markdown",
      "metadata": {
        "id": "GqVSRvuXzeKZ"
      },
      "source": [
        "I det næste modul skal vi se på, hvordan vi kan få vores program til at gentage en handling mange gange uden, at vi behøver at skrive den samme kode igen og igen. Vi skal lære om **løkker**.\n",
        "\n",
        "## Modul 3: Gentagelse Gør Mester (Løkker)\n",
        "\n",
        "I de forrige moduler har du lært at gemme data i variabler og at få dit program til at træffe valg med `if-elif-else`-sætninger. Det er som at give din kode en hjerne, så den kan tænke og reagere.\n",
        "\n",
        "Men hvad nu hvis du skal udføre den samme handling igen og igen? Forestil dig, at du har en liste med 100 navne, og du vil printe en hilsen til hver enkelt person. Skal du så skrive 100 `print()`-linjer? Det ville være utroligt kedeligt og ineffektivt.\n",
        "\n",
        "Her kommer **løkker** (eller *loops* på engelsk) ind i billedet. En løkke er en måde at fortælle computeren: \"Udfør denne blok af kode igen og igen, indtil en bestemt betingelse er opfyldt\". Det er et af de mest tidsbesparende og kraftfulde værktøjer, en programmør har.\n",
        "\n",
        "### Analogien: Et Samlebånd\n",
        "\n",
        "Tænk på en løkke som et **samlebånd** på en fabrik.\n",
        "\n",
        "*   Du har en række af ting, der skal behandles (f.eks. en kasse med legoklodser).\n",
        "*   Du lægger alle tingene på samlebåndet.\n",
        "*   Samlebåndet fører én ting frem ad gangen til en arbejdsstation.\n",
        "*   På arbejdsstationen udføres præcis den samme opgave på hver ting (f.eks. \"sæt et klistermærke på\").\n",
        "*   Når alle tingene fra samlebåndet er blevet behandlet, stopper arbejdet.\n",
        "\n",
        "En `for`-løkke i Python fungerer på nøjagtig samme måde. Men før vi kan bygge vores samlebånd, har vi brug for noget at lægge på det. Det fører os til en ny datatype: **lister**.\n",
        "\n",
        "### Lister: En Digital Indkøbsliste\n",
        "\n",
        "Indtil nu har vores \"kasser\" (variabler) kun kunnet indeholde én ting ad gangen. En **liste** er som en super-kasse, der kan indeholde en hel række af ting i en bestemt rækkefølge.\n",
        "\n",
        "Den bedste analogi er en **indkøbsliste**.\n",
        "\n",
        "*   Den har et navn (f.eks. \"min indkøbsliste\").\n",
        "*   Den indeholder flere punkter (f.eks. \"mælk\", \"brød\", \"ost\").\n",
        "*   Rækkefølgen af punkterne betyder noget.\n",
        "\n",
        "I Python laver vi en liste ved at bruge firkantede parenteser `[]` og adskille de enkelte elementer med komma.\n",
        "\n",
        "#### Jeg gør: Opret og arbejd med en liste\n",
        "\n",
        "Lad os lave en liste over nogle danske byer og se, hvordan vi kan interagere med den."
      ]
    },
    {
      "cell_type": "code",
      "metadata": {
        "id": "gCK8wDYXzeKZ"
      },
      "source": [
        "# Vi opretter en liste ved navn 'danske_byer'\n",
        "danske_byer = [\"København\", \"Aarhus\", \"Odense\", \"Aalborg\"]\n",
        "\n",
        "# Vi kan printe hele listen\n",
        "print(f\"Hele listen: {danske_byer}\")\n",
        "\n",
        "# Vi kan få fat i et enkelt element ved dets 'indeks'.\n",
        "# VIGTIGT: Python starter med at tælle fra 0!\n",
        "print(f\"Det første element (indeks 0): {danske_byer[0]}\")\n",
        "print(f\"Det tredje element (indeks 2): {danske_byer[2]}\")\n",
        "\n",
        "# Vi kan finde ud af, hvor mange elementer der er i listen med len()\n",
        "print(f\"Antal byer på listen: {len(danske_byer)}\")\n",
        "\n",
        "# Vi kan tilføje et nyt element til slutningen af listen med .append()\n",
        "danske_byer.append(\"Esbjerg\")\n",
        "print(f\"Listen efter at have tilføjet 'Esbjerg': {danske_byer}\")"
      ],
      "execution_count": null,
      "outputs": []
    },
    {
      "cell_type": "markdown",
      "metadata": {
        "id": "MBxl9VWpzeKZ"
      },
      "source": [
        "#### Hvad skete der?\n",
        "Vi har nu en dynamisk samling af data. Vi kan tilgå specifikke elementer (husk at `[0]` er det første!), tælle hvor mange der er, og tilføje nye. Dette gør lister utroligt alsidige. Nu er vi klar til at sætte denne liste på vores \"samlebånd\".\n",
        "\n",
        "### `for`-løkken: Vores samlebånd i aktion\n",
        "\n",
        "Den mest almindelige type løkke i Python er `for`-løkken. Den er designet til at gennemgå hvert enkelt element i en liste (eller en anden form for sekvens) og udføre en handling for hvert element.\n",
        "\n",
        "Syntaksen ser sådan her ud:"
      ]
    },
    {
      "cell_type": "code",
      "metadata": {
        "id": "dwiepN__zeKZ"
      },
      "source": [
        "for midlertidig_variabel in min_liste:\n",
        "    # Kode, der skal udføres for hvert element.\n",
        "    # Denne kode er rykket ind, ligesom med if-sætninger.\n",
        "    # 'midlertidig_variabel' vil indeholde det aktuelle element fra listen."
      ],
      "execution_count": null,
      "outputs": []
    },
    {
      "cell_type": "markdown",
      "metadata": {
        "id": "L0S_YDCEzeKZ"
      },
      "source": [
        "Lad os bryde det ned:\n",
        "*   `for`: Nøgleordet, der starter løkken.\n",
        "*   `midlertidig_variabel`: Dette er et navn, du selv vælger! For hver omgang i løkken vil denne variabel automatisk indeholde det næste element fra listen. Tænk på det som den ting, der *lige nu* er ved arbejdsstationen på samlebåndet.\n",
        "*   `in`: Nøgleordet, der forbinder den midlertidige variabel med listen.\n",
        "*   `min_liste`: Den liste, vi vil gennemgå.\n",
        "*   `:`: Kolonet, der starter den indrykkede kodeblok.\n",
        "\n",
        "#### Hils på byerne\n",
        "\n",
        "Lad os bruge vores liste `danske_byer` og en `for`-løkke til at printe en personlig hilsen til hver by."
      ]
    },
    {
      "cell_type": "code",
      "metadata": {
        "id": "ZQQnffHyzeKZ"
      },
      "source": [
        "danske_byer = [\"København\", \"Aarhus\", \"Odense\", \"Aalborg\"]\n",
        "\n",
        "# Her starter vores samlebånd\n",
        "# For hver 'by' på listen 'danske_byer'...\n",
        "for by in danske_byer:\n",
        "    # ...udfør denne handling\n",
        "    print(f\"Velkommen til den fantastiske by: {by}!\")\n",
        "\n",
        "print(\"Det var alle byerne på listen.\")"
      ],
      "execution_count": null,
      "outputs": []
    },
    {
      "cell_type": "markdown",
      "metadata": {
        "id": "Fip-mw-uzeKZ"
      },
      "source": [
        "#### Hvad skete der?\n",
        "Se, hvor elegant det er! I stedet for at skrive fire `print()`-linjer, skrev vi kun én. Løkken klarede resten af arbejdet for os.\n",
        "\n",
        "Her er, hvad der skete, skridt for skridt:\n",
        "1.  Løkken starter. Python tager det første element fra `danske_byer`, som er `\"København\"`.\n",
        "2.  Den gemmer `\"København\"` i den midlertidige variabel `by`.\n",
        "3.  Den kører den indrykkede kode: `print(f\"Velkommen til den fantastiske by: {by}!\")`. `by` bliver erstattet med `\"København\"`, og der printes \"Velkommen til den fantastiske by: København!\".\n",
        "4.  Løkken er færdig med første omgang. Den går tilbage til toppen og tager det næste element, `\"Aarhus\"`.\n",
        "5.  Den gemmer `\"Aarhus\"` i `by` (overskriver den gamle værdi).\n",
        "6.  Den kører den indrykkede kode igen, som nu printer \"Velkommen til den fantastiske by: Aarhus!\".\n",
        "7.  Dette gentages for \"Odense\" og \"Aalborg\".\n",
        "8.  Efter \"Aalborg\" er der ikke flere elementer i listen. Samlebåndet er tomt. Løkken stopper.\n",
        "9.  Programmet fortsætter med at køre koden *efter* løkken, og printer \"Det var alle byerne på listen.\".\n",
        "\n",
        "### Gentagelse et bestemt antal gange: `range()`\n",
        "\n",
        "Hvad nu hvis vi ikke har en liste, men bare vil gentage en handling et bestemt antal gange? Til det har Python en super smart funktion, der hedder `range()`.\n",
        "\n",
        "`range(5)` genererer en sekvens af tal fra 0 op til (men ikke inklusiv) 5. Altså: 0, 1, 2, 3, 4. Det er perfekt at bruge i en `for`-løkke.\n",
        "\n",
        "#### Brug af `range()`"
      ]
    },
    {
      "cell_type": "code",
      "metadata": {
        "id": "gYBPg-kLzeKZ"
      },
      "source": [
        "# Vi vil printe en besked 3 gange.\n",
        "# 'i' er en traditionel midlertidig variabel for tællere.\n",
        "for i in range(3):\n",
        "    print(f\"Dette er gentagelse nummer {i+1}\")\n",
        "\n",
        "print(\"Løkken er færdig.\")"
      ],
      "execution_count": null,
      "outputs": []
    },
    {
      "cell_type": "markdown",
      "metadata": {
        "id": "ECjy_hFwzeKZ"
      },
      "source": [
        "#### Hvad skete der?\n",
        "Løkken kørte 3 gange. Første gang var `i` lig med `0`, anden gang `1`, og tredje gang `2`. Ved at skrive `i+1` i vores print-sætning fik vi en pæn tæller, der startede fra 1. `range()` er utrolig nyttig, når du ved præcis, hvor mange gange noget skal gentages.\n",
        "\n",
        "#### Nummerering af en liste\n",
        "\n",
        "Herunder har jeg en liste over ugens dage. Din opgave er at færdiggøre `for`-løkken. For hver dag i listen skal du printe navnet på dagen. Jeg har allerede oprettet listen og starten på løkken for dig."
      ]
    },
    {
      "cell_type": "code",
      "metadata": {
        "id": "y52nheO-zeKZ"
      },
      "source": [
        "ugedage = [\"Mandag\", \"Tirsdag\", \"Onsdag\", \"Torsdag\", \"Fredag\", \"Lørdag\", \"Søndag\"]\n",
        "\n",
        "# Færdiggør for-løkken herunder.\n",
        "# Du skal bruge en midlertidig variabel (f.eks. 'dag')\n",
        "# og printe den ud i hver omgang.\n",
        "for ... in ...:\n",
        "    print(...)"
      ],
      "execution_count": null,
      "outputs": []
    },
    {
      "cell_type": "markdown",
      "metadata": {
        "id": "cJEnIzqszeKZ"
      },
      "source": [
        "#### Interpretation\n",
        "Godt gået! Du har nu instrueret computeren i at gennemgå en liste med syv elementer og udføre en handling for hvert af dem. Den midlertidige variabel, du valgte (f.eks. `dag`), fungerede som en pladsholder for det aktuelle element, som løkken arbejdede med i hver runde.\n",
        "\n",
        "### ✍️ Your Turn! (Pakkeliste til Ferie)\n",
        "\n",
        "Nu er det din tur til at bruge lister og `for`-løkker til at løse en praktisk opgave. Du skal på ferie og vil lave et program, der kan gennemgå din pakkeliste for at sikre, at du har husket det hele.\n",
        "\n",
        "**Din opgave:**\n",
        "\n",
        "1.  Opret en liste ved navn `pakkeliste`.\n",
        "2.  Tilføj mindst fire ting til listen, som du ville pakke til en ferie (f.eks. `\"Tandbørste\"`, `\"Sokker\"`, `\"Bog\"`, `\"Oplader\"`). Hver ting skal være en string.\n",
        "3.  Skriv en `for`-løkke, der gennemgår hvert `item` i din `pakkeliste`.\n",
        "4.  Inde i løkken skal du bruge `print()` og en f-string til at udskrive en bekræftelse for hver ting. Beskeden skal være: `\"Jeg har pakket: [item]\"`.\n",
        "\n",
        "Skriv din kode i cellen herunder."
      ]
    },
    {
      "cell_type": "code",
      "metadata": {
        "id": "CHxS6iMozeKa"
      },
      "source": [
        "# Trin 1 & 2: Opret din pakkeliste med mindst fire ting\n",
        "\n",
        "\n",
        "# Trin 3 & 4: Skriv en for-løkke, der printer en bekræftelse for hver ting"
      ],
      "execution_count": null,
      "outputs": []
    },
    {
      "cell_type": "markdown",
      "metadata": {
        "id": "FJ1IsQM7zeKa"
      },
      "source": [
        "Fremragende arbejde! Du har nu bygget et lille program, der automatiserer en tjekliste. Forestil dig, hvor nyttigt dette er. Hvis du kommer i tanke om ti andre ting, du skal pakke, skal du blot tilføje dem til listen. Du behøver slet ikke at røre ved din `for`-løkke – den vil automatisk håndtere alle de nye ting. Dette er essensen af god programmering: at skrive smart, genanvendelig kode i stedet for at gentage sig selv.\n",
        "\n",
        "Herunder kan du se et eksempel på en løsning."
      ]
    },
    {
      "cell_type": "code",
      "metadata": {
        "cellView": "form",
        "id": "aO7QNztDzeKa"
      },
      "source": [
        "#@title Løsningsforslag (klik for at vise)\n",
        "# Trin 1 & 2: Opret din pakkeliste med mindst fire ting\n",
        "pakkeliste = [\"Tandbørste\", \"Sokker\", \"Bog\", \"Oplader\", \"Solcreme\"]\n",
        "\n",
        "# Trin 3 & 4: Skriv en for-løkke, der printer en bekræftelse for hver ting\n",
        "for item in pakkeliste:\n",
        "    print(f\"Jeg har pakket: {item}\")"
      ],
      "execution_count": null,
      "outputs": []
    },
    {
      "cell_type": "markdown",
      "metadata": {
        "id": "J742i5gSzeKa"
      },
      "source": [
        "Du har nu lært, hvordan man kan håndtere samlinger af data med lister og hvordan man effektivt kan behandle hvert element i en samling ved hjælp af `for`-løkker. Dette er en utrolig vigtig færdighed.\n",
        "\n",
        "I det næste modul skal vi se på, hvordan vi kan pakke vores kode ind i genanvendelige \"opskrifter\", så vi kan gøre vores programmer endnu mere organiserede og kraftfulde. Vi skal lære om **funktioner**.\n",
        "\n",
        "## Modul 4: Lav Dine Egne Opskrifter (Funktioner)\n",
        "\n",
        "Indtil nu har vi skrevet kode, der kører fra top til bund. Vi har lært at gemme data i variabler, træffe valg med `if`-sætninger og gentage opgaver med `for`-løkker. Vores programmer bliver mere og mere avancerede!\n",
        "\n",
        "Men hvad sker der, når vores programmer bliver rigtig store? Forestil dig et program med hundredvis af linjer kode. Det kan hurtigt blive uoverskueligt. Hvad nu, hvis vi har en bestemt beregning, vi skal udføre mange forskellige steder i vores program? Skal vi så kopiere og indsætte den samme kode igen og igen? Det ville være både besværligt og en kilde til fejl. Hvis vi fandt en fejl i beregningen, skulle vi rette den alle steder.\n",
        "\n",
        "Løsningen på dette problem er en af de mest elegante og fundamentale idéer i programmering: **funktioner**. En funktion er en navngiven, genanvendelig blok af kode, der udfører en specifik opgave.\n",
        "\n",
        "### Analogien: En Madopskrift\n",
        "\n",
        "Den absolut bedste måde at tænke på en funktion er som en **madopskrift**.\n",
        "\n",
        "*   **Opskriftens Navn:** En opskrift har et navn, f.eks. \"Opskrift på pandekager\". En funktion har også et navn, f.eks. `lav_pandekager`.\n",
        "*   **Ingredienser (Parametre):** En opskrift lister de ingredienser, du skal bruge (f.eks. 2 æg, 5 dl mel). Disse kan variere – nogle gange vil du lave en lille portion, andre gange en stor. I en funktion kaldes disse \"ingredienser\" for **parametre**. Det er den information, funktionen har brug for for at kunne udføre sin opgave.\n",
        "*   **Fremgangsmåde (Koden i funktionen):** Opskriften har en række trin, du skal følge for at omdanne ingredienserne til en færdig ret. Dette er selve koden inde i funktionen.\n",
        "*   **Den Færdige Ret (Returværdi):** Resultatet af at følge opskriften er en stak pandekager. I en funktion kan vi få et resultat tilbage, som vi kan arbejde videre med. Dette kaldes en **returværdi**.\n",
        "*   **At Bruge Opskriften (At kalde funktionen):** Når du beslutter dig for at lave pandekager, *bruger* du opskriften. I programmering siger vi, at vi *kalder* funktionen. Du kan bruge den samme opskrift igen og igen, hver gang du har lyst til pandekager.\n",
        "\n",
        "Hvorfor er dette smart? Fordi du kun behøver at skrive opskriften ned én gang. Derefter kan du (og andre) bruge den tusindvis af gange uden at skulle genopfinde den dybe tallerken hver gang. Det gør vores kode:\n",
        "1.  **Genanvendelig:** Skriv én gang, brug mange gange.\n",
        "2.  **Organiseret:** Bryd et stort problem ned i mindre, navngivne \"opskrifter\", der er nemme at forstå.\n",
        "3.  **Nemmere at vedligeholde:** Hvis du finder en bedre måde at lave pandekager på, skal du kun rette det ét sted: i selve opskriften.\n",
        "\n",
        "### Jeg gør: Definition og kald af en simpel funktion\n",
        "\n",
        "Lad os starte med den simpleste form for funktion: en, der ikke tager nogen ingredienser og ikke returnerer en færdig ret, men blot udfører en handling.\n",
        "\n",
        "Syntaksen for at definere (lave) en funktion i Python ser sådan her ud:\n",
        "*   Vi starter med nøgleordet `def` (en forkortelse for *define*).\n",
        "*   Derefter kommer funktionens navn (vi vælger selv, f.eks. `print_en_hilsen`).\n",
        "*   Efter navnet kommer et sæt parenteser `()`. Her ville ingredienserne (parametrene) normalt stå, men i dette simple tilfælde er de tomme.\n",
        "*   Vi afslutter linjen med et kolon `:`.\n",
        "*   Al koden, der hører til funktionen, skal være **rykket ind** (ligesom med `if` og `for`)."
      ]
    },
    {
      "cell_type": "code",
      "metadata": {
        "id": "fgU8zXVLzeKa"
      },
      "source": [
        "# Trin 1: Vi definerer vores \"opskrift\".\n",
        "# Læg mærke til, at koden ikke bliver kørt endnu. Vi har kun skrevet opskriften ned.\n",
        "def sig_farvel():\n",
        "    print(\"Det var alt for nu.\")\n",
        "    print(\"Tak fordi du kodede med!\")\n",
        "    print(\"-------------------------\")\n",
        "\n",
        "# Trin 2: Nu \"bruger\" vi opskriften ved at kalde funktionen ved dens navn.\n",
        "print(\"Programmet starter...\")\n",
        "\n",
        "sig_farvel() # Her kalder vi funktionen\n",
        "\n",
        "print(\"Programmet er nu slut.\")\n",
        "\n",
        "sig_farvel() # Vi kan kalde den igen!"
      ],
      "execution_count": null,
      "outputs": []
    },
    {
      "cell_type": "markdown",
      "metadata": {
        "id": "gaYA5jfrzeKa"
      },
      "source": [
        "#### Hvad skete der?\n",
        "Se outputtet. Koden inde i `sig_farvel` blev kun kørt, da vi skrev `sig_farvel()`. At definere en funktion med `def` er som at skrive en opskrift ned i en kogebog – der sker ingenting, før du rent faktisk åbner bogen og beslutter dig for at følge opskriften. Vi kaldte funktionen to gange, og begge gange blev de tre `print`-linjer inde i funktionen udført.\n",
        "\n",
        "### Tilføjelse af Ingredienser (Parametre)\n",
        "\n",
        "En funktion bliver først rigtig nyttig, når vi kan give den information at arbejde med. Lad os lave en funktion, der kan give en personlig hilsen. Den har brug for én ingrediens: navnet på den person, den skal hilse på."
      ]
    },
    {
      "cell_type": "code",
      "metadata": {
        "id": "YeSb1kbbzeKa"
      },
      "source": [
        "# Her er 'navn' en parameter. Det er en pladsholder for den værdi,\n",
        "# vi vil give til funktionen, når vi kalder den.\n",
        "def personlig_hilsen(navn):\n",
        "    print(f\"Hej med dig, {navn}! Jeg håber, du har en fantastisk dag.\")\n",
        "\n",
        "# Nu kalder vi funktionen og giver den et \"argument\".\n",
        "# Argumentet \"Mads\" bliver puttet ind i parameteren \"navn\" inde i funktionen.\n",
        "personlig_hilsen(\"Mads\")\n",
        "\n",
        "# Vi kan kalde den igen med et andet argument.\n",
        "personlig_hilsen(\"Camilla\")"
      ],
      "execution_count": null,
      "outputs": []
    },
    {
      "cell_type": "markdown",
      "metadata": {
        "id": "6NbC42XdzeKa"
      },
      "source": [
        "#### Hvad skete der?\n",
        "Her er `navn` en **parameter** – en variabel, der kun eksisterer inde i funktionen. Når vi kalder `personlig_hilsen(\"Mads\")`, er `\"Mads\"` et **argument**. Python tager argumentet `\"Mads\"` og kopierer det over i parameteren `navn`. Derefter kører koden inde i funktionen med `navn` sat til `\"Mads\"`. Næste gang vi kalder den med `\"Camilla\"`, gentages processen, men nu med `navn` sat til `\"Camilla\"`. Funktionen er den samme, men outputtet ændrer sig baseret på de ingredienser, vi giver den.\n",
        "\n",
        "#### Pro-tip: Standard-ingredienser (Default Parameters)\n",
        "Hvad nu hvis vi nogle gange glemmer at give en ingrediens? Vi kan give en parameter en standardværdi. Så bliver den brugt, hvis vi ikke selv angiver en."
      ]
    },
    {
      "cell_type": "code",
      "metadata": {
        "id": "_HEkbjHszeKa"
      },
      "source": [
        "def hilsen_med_standard(navn=\"Verden\"):\n",
        "    print(f\"Hej, {navn}!\")\n",
        "\n",
        "hilsen_med_standard(\"Danmark\") # Her bruger vi det argument, vi giver\n",
        "hilsen_med_standard()         # Her giver vi intet, så standardværdien \"Verden\" bliver brugt"
      ],
      "execution_count": null,
      "outputs": []
    },
    {
      "cell_type": "markdown",
      "metadata": {
        "id": "pDvki9hLzeKa"
      },
      "source": [
        "### At få den færdige ret tilbage (Returværdier)\n",
        "\n",
        "Nogle gange vil vi ikke have, at vores funktion printer noget. I stedet vil vi have, at den beregner en værdi og giver den tilbage til os, så vi kan bruge den i resten af vores program. Dette er \"den færdige ret\" fra vores opskrift. Til dette bruger vi nøgleordet `return`.\n",
        "\n",
        "#### En funktion, der lægger tal sammen\n",
        "\n",
        "Lad os lave en funktion, der tager to tal som parametre, lægger dem sammen og *returnerer* resultatet."
      ]
    },
    {
      "cell_type": "code",
      "metadata": {
        "id": "xreGvyn5zeKa"
      },
      "source": [
        "def beregn_sum(tal1, tal2):\n",
        "    summen = tal1 + tal2\n",
        "    return summen # Stop funktionen og send værdien af 'summen' tilbage\n",
        "\n",
        "# Vi kalder funktionen og gemmer den returnerede værdi i en ny variabel\n",
        "resultat_fra_funktion = beregn_sum(5, 3)\n",
        "\n",
        "print(f\"Resultatet, som funktionen returnerede, er: {resultat_fra_funktion}\")\n",
        "print(f\"Vi kan nu arbejde videre med resultatet. F.eks. gange det med 2: {resultat_fra_funktion * 2}\")"
      ],
      "execution_count": null,
      "outputs": []
    },
    {
      "cell_type": "markdown",
      "metadata": {
        "id": "RPG4Lx8nzeKa"
      },
      "source": [
        "#### Interpretation\n",
        "Da vi kaldte `beregn_sum(5, 3)`, skete følgende:\n",
        "1.  `tal1` blev sat til `5`, og `tal2` blev sat til `3` inde i funktionen.\n",
        "2.  `summen` blev beregnet til `5 + 3 = 8`.\n",
        "3.  `return summen` sendte værdien `8` tilbage til det sted i koden, hvor funktionen blev kaldt.\n",
        "4.  Linjen `resultat_fra_funktion = beregn_sum(5, 3)` blev i praksis til `resultat_fra_funktion = 8`.\n",
        "5.  Vi kunne derefter printe og arbejde videre med variablen `resultat_fra_funktion`.\n",
        "\n",
        "#### En note om variabel-scope\n",
        "En variabel, der er oprettet *inde i* en funktion (som `summen` ovenfor), er **lokal**. Det betyder, at den kun eksisterer, mens funktionen kører. Når funktionen er færdig, bliver variablen \"smidt ud\". Du kan ikke få adgang til den uden for funktionen. Dette er smart, fordi det forhindrer, at variabler fra forskellige funktioner kommer til at forstyrre hinanden.\n",
        "\n",
        "### Beregn moms\n",
        "\n",
        "I Danmark er momsen typisk 25%. Lad os lave en funktion, der kan beregne, hvor meget moms der er på et givent beløb. Jeg har startet funktionen for dig. Din opgave er at færdiggøre beregningen og returnere resultatet.\n",
        "\n",
        "Formlen er: `moms_beløb = beløb * 0.25`"
      ]
    },
    {
      "cell_type": "code",
      "metadata": {
        "id": "lA6yMaIUzeKa"
      },
      "source": [
        "def beregn_moms(beløb):\n",
        "    # Din opgave: Erstat '...' med den korrekte beregning af momsen.\n",
        "    moms = ...\n",
        "    return moms\n",
        "\n",
        "# Vi tester funktionen\n",
        "pris_uden_moms = 200\n",
        "moms_af_pris = beregn_moms(pris_uden_moms)\n",
        "\n",
        "print(f\"For en vare til {pris_uden_moms} kr., er momsen {moms_af_pris} kr.\")"
      ],
      "execution_count": null,
      "outputs": []
    },
    {
      "cell_type": "markdown",
      "metadata": {
        "id": "ULVn6e-pzeKa"
      },
      "source": [
        "#### Interpretation\n",
        "Ved at udfylde `beløb * 0.25` har du skabt en genanvendelig moms-beregner. Hver gang du kalder `beregn_moms()` med et beløb, vil den udføre præcis denne beregning og returnere resultatet, som du så kan bruge videre i dit program, f.eks. til at lægge det til den oprindelige pris for at finde totalprisen.\n",
        "\n",
        "### ✍️ Din tur! (Wienerbrøds-beregner)\n",
        "\n",
        "Nu er det din tur til at lave en komplet funktion fra bunden. Vi skal lave en praktisk beregner, der kan fortælle os, hvor mange ingredienser vi skal bruge til at bage wienerbrød, afhængigt af hvor mange personer vi er.\n",
        "\n",
        "**Din opgave:**\n",
        "\n",
        "1.  Definer en funktion ved navn `beregn_ingredienser`.\n",
        "2.  Funktionen skal tage én parameter: `antal_personer`.\n",
        "3.  Inde i funktionen skal du beregne to ting:\n",
        "    *   Den nødvendige mængde mel i gram. Lad os sige, vi skal bruge **100 gram mel pr. person**.\n",
        "    *   Den nødvendige mængde smør i gram. Vi skal bruge **50 gram smør pr. person**.\n",
        "4.  Funktionen skal *ikke* returnere noget, men i stedet bruge `print()` og en f-string til at udskrive en pæn besked, der ser sådan her ud: `\"Til X personer skal du bruge Y gram mel og Z gram smør.\"` (hvor X, Y og Z er de korrekte tal).\n",
        "5.  Efter du har defineret funktionen, skal du kalde den mindst tre gange med forskellige antal personer (f.eks. for 2, 4 og 8 personer) for at vise, at din \"opskrift\" virker.\n",
        "\n",
        "Skriv din kode i cellen herunder."
      ]
    },
    {
      "cell_type": "code",
      "metadata": {
        "id": "3lFDzxZGzeKa"
      },
      "source": [
        "# Trin 1: Definer din funktion 'beregn_ingredienser' her.\n",
        "# Den skal tage én parameter: antal_personer.\n",
        "\n",
        "    # Trin 2 & 3: Inde i funktionen, beregn mængden af mel og smør.\n",
        "\n",
        "\n",
        "    # Trin 4: Print den formaterede sætning.\n",
        "\n",
        "\n",
        "# Trin 5: Kald din funktion med forskellige antal personer for at teste den.\n"
      ],
      "execution_count": null,
      "outputs": []
    },
    {
      "cell_type": "markdown",
      "metadata": {
        "id": "s3ouv99kzeKb"
      },
      "source": [
        "Fantastisk! Du har nu skabt din helt egen \"opskrift\" i kode. Se, hvor nemt det er at genbruge den. Hvis du pludselig skal bage til 50 personer, skal du ikke lave hele udregningen igen – du kalder bare din funktion med `beregn_ingredienser(50)`. Hvis du senere finder ud af, at opskriften skal justeres (måske skal der bruges 110 gram mel pr. person), skal du kun rette det ét sted: inde i din funktion. Alle de steder, du kalder funktionen, vil automatisk bruge den nye, forbedrede opskrift.\n",
        "\n",
        "Dette er kernen i god programmering: at skrive velorganiseret, læsbar og genanvendelig kode.\n",
        "\n",
        "Herunder er et eksempel på en færdig løsning."
      ]
    },
    {
      "cell_type": "code",
      "metadata": {
        "cellView": "form",
        "id": "C4jR6k8VzeKb"
      },
      "source": [
        "#@title Løsningsforslag (klik for at vise)\n",
        "# Trin 1: Definer din funktion 'beregn_ingredienser' her.\n",
        "def beregn_ingredienser(antal_personer):\n",
        "    # Trin 2 & 3: Inde i funktionen, beregn mængden af mel og smør.\n",
        "    mel_gram = antal_personer * 100\n",
        "    smør_gram = antal_personer * 50\n",
        "\n",
        "    # Trin 4: Print den formaterede sætning.\n",
        "    print(f\"Til {antal_personer} personer skal du bruge {mel_gram} gram mel og {smør_gram} gram smør.\")\n",
        "\n",
        "# Trin 5: Kald din funktion med forskellige antal personer for at teste den.\n",
        "beregn_ingredienser(2)\n",
        "beregn_ingredienser(4)\n",
        "beregn_ingredienser(8)"
      ],
      "execution_count": null,
      "outputs": []
    },
    {
      "cell_type": "markdown",
      "metadata": {
        "id": "HSW1G_25zeKb"
      },
      "source": [
        "Du har nu lært en af de vigtigste færdigheder for en programmør. Men hvad sker der, når tingene går galt? Når vi staver et variabelnavn forkert eller glemmer et kolon? I det næste modul skal vi se på, hvordan vi læser og forstår fejlmeddelelser, og hvordan vi kan se dem som en hjælp i stedet for en hindring.\n",
        "\n",
        "## Modul 5: Fejlfinding er din ven!\n",
        "\n",
        "Tillykke med at være nået så langt! Du har lært om variabler, betingelser, lister, løkker og funktioner. Du har nu en solid værktøjskasse til at bygge simple, men kraftfulde programmer.\n",
        "\n",
        "Men undervejs har du måske oplevet noget... frustrerende. Måske har du glemt et kolon, stavet et variabelnavn forkert, eller set en stor, rød fejlmeddelelse dukke op. Din første reaktion var måske: \"Åh nej, jeg har ødelagt det!\".\n",
        "\n",
        "Lad os slå én ting fast med det samme: **Fejl er ikke fiaskoer. Fejl er feedback.**\n",
        "\n",
        "At skrive kode er en samtale med computeren. Nogle gange misforstår den, hvad du mener, og så sender den en fejlmeddelelse tilbage. Denne meddelelse er ikke computeren, der skælder ud; det er computeren, der prøver at hjælpe dig ved at sige: \"Jeg forstod ikke helt den her del. Kan du kigge på linje X og se, om du mente noget andet?\".\n",
        "\n",
        "Selv de mest erfarne programmører i verden ser fejlmeddelelser hver eneste dag. Forskellen er, at de har lært ikke at blive bange for dem. De har lært at læse dem, forstå dem og bruge dem som et spor til at finde og rette problemet. Processen med at finde og rette fejl kaldes **debugging**.\n",
        "\n",
        "I dette modul skal vi se på de mest almindelige fejltyper, du vil møde som ny programmør. Vi vil lære at læse fejlmeddelelserne og se dem som en venlig guide i stedet for en stopklods.\n",
        "\n",
        "### 1. `NameError`: \"Jeg kender ikke det navn\"\n",
        "\n",
        "En `NameError` er nok den mest almindelige fejl af dem alle. Den opstår, når du beder Python om at bruge en variabel eller en funktion, som den ikke kender navnet på. Det sker næsten altid på grund af en simpel stavefejl.\n",
        "\n",
        "#### En klassisk stavefejl\n",
        "\n",
        "Lad os sige, vi har en variabel, der gemmer en by. Men da vi skal printe den, staver vi navnet forkert."
      ]
    },
    {
      "cell_type": "code",
      "metadata": {
        "id": "HYKqxobbzeKb"
      },
      "source": [
        "# Vi definerer en variabel med det korrekte navn\n",
        "by_navn = \"København\"\n",
        "\n",
        "# Vi prøver at printe den, men staver variabelnavnet forkert\n",
        "print(by_nav)"
      ],
      "execution_count": null,
      "outputs": []
    },
    {
      "cell_type": "markdown",
      "metadata": {
        "id": "SWO65ic1zeKb"
      },
      "source": [
        "#### Interpretation af fejlen\n",
        "\n",
        "Hovsa! En rød boks. Lad os bryde den ned, så den ikke er så skræmmende.\n",
        "\n",
        "```\n",
        "---------------------------------------------------------------------------\n",
        "NameError                                 Traceback (most recent call last)\n",
        "<ipython-input-1-1a2b3c4d5e6f> in <module>\n",
        "      3\n",
        "      4 # Vi prøver at printe den, men staver variabelnavnet forkert\n",
        "----> 5 print(by_nav)\n",
        "\n",
        "NameError: name 'by_nav' is not defined\n",
        "```\n",
        "\n",
        "1.  **`Traceback (most recent call last)`**: Dette er bare Pythons måde at sige: \"Her er sporet af, hvad der gik galt, startende med den seneste hændelse.\"\n",
        "2.  **`----> 5 print(by_nav)`**: Pilen peger på den præcise linje i din kode, hvor fejlen skete (linje 5 i dette tilfælde). Dette er utroligt nyttigt!\n",
        "3.  **`NameError: name 'by_nav' is not defined`**: Dette er selve diagnosen. Lad os oversætte den til almindeligt dansk:\n",
        "    *   **`NameError`**: Fejltypen er en \"Navnefejl\".\n",
        "    *   **`name 'by_nav' is not defined`**: \"Navnet 'by_nav' er ikke defineret.\" Det betyder, at Python kiggede i sin hukommelse efter en kasse (variabel) eller en opskrift (funktion) med navnet `by_nav`, men den kunne ikke finde nogen.\n",
        "\n",
        "**Løsningen:** Vi kigger på linje 5, som pilen peger på. Vi ser navnet `by_nav`. Så kigger vi på resten af vores kode og ser, at vi oprindeligt kaldte vores variabel for `by_navn`. Ah! Vi mangler et 'n'. Vi retter stavefejlen, og så virker koden."
      ]
    },
    {
      "cell_type": "code",
      "metadata": {
        "id": "nnyrgsSozeKb"
      },
      "source": [
        "# Vi definerer en variabel med det korrekte navn\n",
        "by_navn = \"København\"\n",
        "\n",
        "# Vi retter stavefejlen\n",
        "print(by_navn)"
      ],
      "execution_count": null,
      "outputs": []
    },
    {
      "cell_type": "markdown",
      "metadata": {
        "id": "IGGFiA6lzeKb"
      },
      "source": [
        "### 2. `SyntaxError`: \"Jeg forstår ikke din sætning\"\n",
        "\n",
        "En `SyntaxError` er anderledes. Her er det ikke et navn, Python ikke kan finde, men selve *strukturen* eller *grammatikken* i din kode, der er forkert. Det er som at skrive en dansk sætning uden punktum eller med ordene i helt forkert rækkefølge. Du har brudt sprogets regler.\n",
        "\n",
        "Disse fejl opstår ofte, fordi man glemmer et tegn som et kolon `:`, en parentes `)` eller et citationstegn `\"`.\n",
        "\n",
        "#### Jeg gør: Et manglende kolon\n",
        "\n",
        "Vi ved fra Modul 2, at en `if`-sætning altid skal slutte med et kolon. Lad os se, hvad der sker, hvis vi glemmer det."
      ]
    },
    {
      "cell_type": "code",
      "metadata": {
        "id": "rFqWeryHzeKb"
      },
      "source": [
        "temperatur = 22\n",
        "\n",
        "# Vi glemmer kolonet ':' efter betingelsen\n",
        "if temperatur > 20\n",
        "    print(\"Det er en varm dag!\")"
      ],
      "execution_count": null,
      "outputs": []
    },
    {
      "cell_type": "markdown",
      "metadata": {
        "id": "0MN6wHsKzeKb"
      },
      "source": [
        "#### Interpretation af fejlen\n",
        "\n",
        "```\n",
        "  File \"<ipython-input-2-1a2b3c4d5e6f>\", line 4\n",
        "    if temperatur > 20\n",
        "                      ^\n",
        "SyntaxError: invalid syntax\n",
        "```\n",
        "\n",
        "Denne fejlmeddelelse ser lidt anderledes ud:\n",
        "1.  **`SyntaxError: invalid syntax`**: Diagnosen er klar: \"Syntaksfejl: ugyldig grammatik\". Python fortæller os, at den måde, vi har skrevet koden på, ikke følger sprogets regler.\n",
        "2.  **`^`**: Læg mærke til den lille pil (caret). Python prøver at være hjælpsom og peger på det sted i linjen, hvor den blev forvirret. Den forventede noget mere efter `20` (nemlig et kolon), men linjen sluttede brat.\n",
        "\n",
        "**Løsningen:** Vi ser, at pilen peger på slutningen af vores `if`-linje. Vi husker reglen om, at `if`, `elif`, `else`, `for` og `def` linjer altid skal slutte med et kolon. Vi tilføjer det, og koden virker.\n",
        "\n",
        "### 3. `IndentationError`: \"Din indrykning er forkert\"\n",
        "\n",
        "Denne fejl er unik for Python og en af de mest almindelige for begyndere. Fordi Python bruger indrykning (mellemrum i starten af en linje) til at definere kodeblokke (hvad der hører til en `if`, `for`, `def` etc.), bliver den meget forvirret, hvis indrykningen er uventet.\n",
        "\n",
        "#### En uventet indrykning"
      ]
    },
    {
      "cell_type": "code",
      "metadata": {
        "colab": {
          "base_uri": "https://localhost:8080/",
          "height": 104
        },
        "id": "1px-nGpczeKb",
        "outputId": "1516bd0f-39de-4466-a0e3-f8c3dc3992bb"
      },
      "source": [
        "print(\"Første linje.\")\n",
        "    print(\"Anden linje med forkert indrykning.\")\n",
        "print(\"Tredje linje.\")"
      ],
      "execution_count": null,
      "outputs": [
        {
          "output_type": "error",
          "ename": "IndentationError",
          "evalue": "unexpected indent (ipython-input-2295980647.py, line 2)",
          "traceback": [
            "\u001b[0;36m  File \u001b[0;32m\"/tmp/ipython-input-2295980647.py\"\u001b[0;36m, line \u001b[0;32m2\u001b[0m\n\u001b[0;31m    print(\"Anden linje med forkert indrykning.\")\u001b[0m\n\u001b[0m    ^\u001b[0m\n\u001b[0;31mIndentationError\u001b[0m\u001b[0;31m:\u001b[0m unexpected indent\n"
          ]
        }
      ]
    },
    {
      "cell_type": "markdown",
      "metadata": {
        "id": "gaXNFsYAzeKb"
      },
      "source": [
        "#### Interpretation af fejlen\n",
        "```\n",
        "  File \"<ipython-input-4-1a2b3c4d5e6f>\", line 2\n",
        "    print(\"Anden linje med forkert indrykning.\")\n",
        "    ^\n",
        "IndentationError: unexpected indent\n",
        "```\n",
        "*   **`IndentationError: unexpected indent`**: Diagnosen er \"Indrykningsfejl: uventet indrykning\". Python fortæller, at den på linje 2 stødte på en indrykning, hvor den ikke forventede en. Der var ingen `if`, `for` eller `def` på linjen før, som skulle starte en ny blok, så indrykningen giver ikke mening for den.\n",
        "\n",
        "**Løsningen:** Fjern den overflødige indrykning foran den anden `print`-sætning.\n",
        "\n",
        "### 4. `TypeError`: \"Du kan ikke gøre det med den type data\"\n",
        "\n",
        "En `TypeError` opstår, når du prøver at udføre en handling på en datatype, der ikke understøtter den handling. Det er som at prøve at drikke en stol eller køre en tur i en banan. Handlingen (\"drikke\") og objektet (\"stol\") passer ikke sammen.\n",
        "\n",
        "Den mest almindelige `TypeError` for begyndere er at prøve at lægge tal og tekststrenge sammen med `+`.\n",
        "\n",
        "#### Lægge tekst og tal sammen"
      ]
    },
    {
      "cell_type": "code",
      "metadata": {
        "id": "i0SCJcimzeKb"
      },
      "source": [
        "# Vi har et tal (integer)\n",
        "antal_hunde = 4\n",
        "\n",
        "# Vi prøver at sætte det sammen med en tekststreng ved hjælp af '+'\n",
        "print(\"Jeg har \" + antal_hunde + \" hunde.\")"
      ],
      "execution_count": null,
      "outputs": []
    },
    {
      "cell_type": "markdown",
      "metadata": {
        "id": "wNJpxvLFzeKb"
      },
      "source": [
        "#### Interpretation af fejlen\n",
        "\n",
        "```\n",
        "---------------------------------------------------------------------------\n",
        "TypeError                                 Traceback (most recent call last)\n",
        "<ipython-input-3-1a2b3c4d5e6f> in <module>\n",
        "      3\n",
        "      4 # Vi prøver at sætte det sammen med en tekststreng ved hjælp af '+'\n",
        "----> 5 print(\"Jeg har \" + antal_hunde + \" hunde.\")\n",
        "\n",
        "TypeError: can only concatenate str (not \"int\") to str\n",
        "```\n",
        "\n",
        "Lad os oversætte denne diagnose:\n",
        "*   **`TypeError`**: Fejltypen er en \"Typefejl\". Det betyder, at vi har et problem med vores datatyper (string, integer, etc.).\n",
        "*   **`can only concatenate str (not \"int\") to str`**: \"Kan kun sætte en string (ikke en 'int') sammen med en anden string\". Python siger, at når du bruger `+` med en string som `\"Jeg har \"`, så forventer den, at alt andet, du prøver at lægge til, *også* er en string. Men den fandt en `int` (heltallet 4) og vidste ikke, hvad den skulle gøre.\n",
        "\n",
        "**Løsningen:** Vi skal gøre Python glad ved at sørge for, at vi kun lægger strings sammen. Vi kan konvertere tallet `antal_hunde` til en string, før vi bruger `+`. Det gør vi med `str()`-funktionen. En endnu bedre og mere moderne løsning er at bruge en f-string, som vi lærte om i Modul 1. F-strings håndterer automatisk konverteringen for os."
      ]
    },
    {
      "cell_type": "code",
      "metadata": {
        "id": "SLlAlUZrzeKb"
      },
      "source": [
        "antal_hunde = 4\n",
        "\n",
        "# Løsning 1: Manuel konvertering med str()\n",
        "print(\"Jeg har \" + str(antal_hunde) + \" hunde.\")\n",
        "\n",
        "# Løsning 2: Den smarte måde med en f-string\n",
        "print(f\"Jeg har {antal_hunde} hunde.\")"
      ],
      "execution_count": null,
      "outputs": []
    },
    {
      "cell_type": "markdown",
      "metadata": {
        "id": "bhgl7X49zeKb"
      },
      "source": [
        "### Et Simpelt Værktøj: `print()`-Debugging\n",
        "\n",
        "Nogle gange kører din kode uden fejl, men den gør ikke det, du forventer. Måske er resultatet af en beregning forkert. Hvordan finder du ud af, hvad der sker inde i programmet?\n",
        "\n",
        "Den simpleste, men mest effektive, debugging-teknik er at bruge `print()` til at inspicere dine variabler på forskellige stadier."
      ]
    },
    {
      "cell_type": "code",
      "metadata": {
        "id": "Hswf-LvgzeKb"
      },
      "source": [
        "# Antag at vi har en fejl i vores logik\n",
        "start_værdi = 10\n",
        "faktor = 5\n",
        "resultat = (start_værdi - 2) * faktor # Måske skulle det have været + 2?\n",
        "\n",
        "# Vi er usikre på, hvad 'resultat' er. Lad os printe det!\n",
        "print(f\"DEBUG: Værdien af 'resultat' er {resultat}\")\n",
        "\n",
        "if resultat > 50:\n",
        "    print(\"Resultatet er stort!\")\n",
        "else:\n",
        "    print(\"Resultatet er lille.\")"
      ],
      "execution_count": null,
      "outputs": []
    },
    {
      "cell_type": "markdown",
      "metadata": {
        "id": "dj49yOMhzeKb"
      },
      "source": [
        "Ved at tilføje `print()`-sætningen kan vi se, at `resultat` er 40. Hvis vi forventede, at det skulle være 60, kan vi nu se, at fejlen må ligge i beregningen, og vi kan nemmere finde ud af, at `- 2` skulle have været `+ 2`.\n",
        "\n",
        "### ✍️ Din tur! (Ret fejlene)\n",
        "\n",
        "I koden herunder er der **tre forskellige fejl**: en `NameError`, en `SyntaxError` og en `TypeError`. Din opgave er at rette dem én ad gangen.\n",
        "\n",
        "**Opgave:**\n",
        "1.  Kør kodecellen. Du vil se den første fejl.\n",
        "2.  Læs fejlmeddelelsen, find fejlen og ret den.\n",
        "3.  Kør cellen igen. Nu vil du se den næste fejl.\n",
        "4.  Gentag processen, indtil programmet kører korrekt og printer den forventede besked."
      ]
    },
    {
      "cell_type": "code",
      "metadata": {
        "id": "4l0FnM24zeKb"
      },
      "source": [
        "# Der er tre fejl gemt i denne kodeblok. Ret dem!\n",
        "\n",
        "min_liste = [10, 20, 30]\n",
        "antal_elementer = len(min_liste)\n",
        "\n",
        "# Fejl 1: SyntaxError\n",
        "if antal_elementer > 0\n",
        "    # Fejl 2: NameError\n",
        "    print(f\"Listen indeholder {antal_elementr} elementer.\")\n",
        "\n",
        "    # Fejl 3: TypeError\n",
        "    print(\"Det første element er: \" + min_liste[0])"
      ],
      "execution_count": null,
      "outputs": []
    },
    {
      "cell_type": "code",
      "metadata": {
        "cellView": "form",
        "id": "gWfiEUBJzeKb"
      },
      "source": [
        "#@title Løsningsforslag (klik for at vise)\n",
        "# Her er den rettede kode\n",
        "\n",
        "min_liste = [10, 20, 30]\n",
        "antal_elementer = len(min_liste)\n",
        "\n",
        "# Fejl 1 rettet: Tilføjet ':' efter betingelsen\n",
        "if antal_elementer > 0:\n",
        "    # Fejl 2 rettet: 'antal_elementr' stavet korrekt til 'antal_elementer'\n",
        "    print(f\"Listen indeholder {antal_elementer} elementer.\")\n",
        "\n",
        "    # Fejl 3 rettet: Brugt f-string til at undgå TypeError\n",
        "    print(f\"Det første element er: {min_liste[0]}\")"
      ],
      "execution_count": null,
      "outputs": []
    },
    {
      "cell_type": "markdown",
      "metadata": {
        "id": "NiuHYSQnzeKc"
      },
      "source": [
        "**Forklaring af rettelser:**\n",
        "1.  **`SyntaxError`**: `if`-sætningen manglede et kolon `:` til sidst.\n",
        "2.  **`NameError`**: Variabelnavnet `antal_elementer` var stavet forkert som `antal_elementr` inde i `print`-sætningen.\n",
        "3.  **`TypeError`**: Koden forsøgte at bruge `+` til at kombinere strengen `\"Det første element er: \"` med tallet `10` (fra `min_liste[0]`). Dette blev løst ved at bruge en f-string, som automatisk konverterer tallet til tekst.\n",
        ":::\n",
        "\n",
        "Du har nu set de mest almindelige fejltyper og lært, at fejlmeddelelser ikke er farlige. De er din personlige assistent, der peger dig i den rigtige retning, når du er faret vild.\n",
        "\n",
        "## Afslutning: Hvad nu?\n",
        "\n",
        "Kæmpe tillykke! Du er nået til vejs ende i denne introduktion til Python. Tag et øjeblik til at tænke over, hvor langt du er kommet. Du startede måske fra bunden uden at vide, hvad et program var, og nu har du skrevet din egen kode, der kan gemme data, træffe beslutninger, gentage opgaver og endda være organiseret i genanvendelige \"opskrifter\". Det er en kæmpe præstation!\n",
        "\n",
        "### Hvad du har lært: En hurtig opsummering\n",
        "\n",
        "Lad os kort se tilbage på de kraftfulde værktøjer, du nu har i din programmerings-værktøjskasse:\n",
        "\n",
        "*   **Variabler (Navngivne Kasser):** Du ved, hvordan du gemmer information – både tekst (`strings`), heltal (`integers`) og kommatal (`floats`) – i navngivne kasser, så du kan bruge dem igen og igen.\n",
        "*   **Betingelser (Vejgafler):** Med `if`, `elif` og `else` kan du give din kode en hjerne. Den kan nu stille spørgsmål til dine data og vælge forskellige veje baseret på svarene, præcis som ved en vejgaffel.\n",
        "*   **Lister og Løkker (Indkøbslister og Samlebånd):** Du kan nu håndtere samlinger af data i lister. Med `for`-løkker kan du sætte disse lister på et \"samlebånd\" og effektivt udføre den samme handling på hvert eneste element, uden at skulle gentage dig selv.\n",
        "*   **Funktioner (Madopskrifter):** Du har lært at pakke din kode ind i navngivne, genanvendelige funktioner. Ligesom en madopskrift kan en funktion tage imod \"ingredienser\" (parametre) og producere et resultat (`return`), hvilket gør din kode mere organiseret, læsbar og nemmere at vedligeholde.\n",
        "*   **Fejlfinding (Din venlige guide):** Vigtigst af alt har du lært, at fejlmeddelelser ikke er farlige. De er computerens måde at give dig nyttig feedback på, så du kan finde og rette problemer i din kode.\n",
        "\n",
        "Du har lagt et solidt fundament. Men dette er kun begyndelsen på din rejse ind i kodningens verden.\n",
        "\n",
        "### Hvad er det næste skridt?\n",
        "\n",
        "Med de færdigheder, du har nu, er du klar til at udforske endnu mere spændende koncepter i Python. Her er et par ting, du kunne kigge på som det næste:\n",
        "\n",
        "*   **Dictionaries:** Forestil dig en \"navngiven kasse\", der kan indeholde flere relaterede informationer, som en telefonbog hvor hvert navn (`nøgle`) har et tilhørende telefonnummer (`værdi`). Det er, hvad en dictionary kan.\n",
        "*   **Læse og skrive filer:** Lær hvordan dit Python-program kan læse data fra en tekstfil eller gemme resultater i en ny fil.\n",
        "*   **Dataanalyse og visualisering:** Dette er et kæmpe og utroligt spændende felt. Med Python kan du analysere store mængder data, finde mønstre og skabe flotte grafer og diagrammer for at præsentere dine resultater.\n",
        "\n",
        "For at give dig en smagsprøve på det sidste punkt – og for at give dig en flot, visuel afslutning på dette kursus – skal vi lave et lille, men meget givende, miniprojekt.\n",
        "\n",
        "### Det sidste miniprojekt: Et billede siger mere end tusind ord\n",
        "\n",
        "Vi har en liste med tal, der repræsenterer den gennemsnitlige månedlige temperatur i København. At kigge på en liste med 12 tal kan være lidt kedeligt og svært at overskue. Er det varmest i juli eller august? Hvor hurtigt falder temperaturen om efteråret?\n",
        "\n",
        "Det ville være meget nemmere at se, hvis vi kunne tegne det som en graf. Og det kan vi!\n",
        "\n",
        "Python har adgang til et kæmpe bibliotek af \"værktøjskasser\" (kaldet *libraries*), som andre programmører har bygget for os. En af de mest populære til at lave grafer hedder **Matplotlib**.\n",
        "\n",
        "For at bruge en ekstern værktøjskasse skal vi først fortælle vores program, at vi vil importere den. Det gør vi med kommandoen `import`.\n",
        "\n",
        "### ✍️ Din tur! (Visualisering af temperatur i København)\n",
        "\n",
        "Din sidste opgave er at bruge `matplotlib` til at lave en simpel linjegraf, der viser temperaturudviklingen i København over et år.\n",
        "\n",
        "**Din opgave:**\n",
        "\n",
        "1.  Jeg har allerede skrevet koden, der importerer `matplotlib` og definerer listerne med data for dig. Du skal ikke ændre på dette.\n",
        "2.  Brug funktionen `plt.plot(x, y)` til at tegne grafen. `x`-aksen (den vandrette) skal være månederne, og `y`-aksen (den lodrette) skal være temperaturerne.\n",
        "3.  Tilføj en titel til din graf med `plt.title(\"...\")`.\n",
        "4.  Tilføj en etiket til x-aksen med `plt.xlabel(\"...\")`.\n",
        "5.  Tilføj en etiket til y-aksen med `plt.ylabel(\"...\")`.\n",
        "6.  Til sidst skal du bruge `plt.show()` til at vise den færdige graf.\n",
        "\n",
        "Udfyld de manglende dele i kodecellen herunder."
      ]
    },
    {
      "cell_type": "code",
      "metadata": {
        "id": "ON4E4pA3zeKc"
      },
      "source": [
        "# Trin 1: Importer værktøjskassen og definer data (dette er gjort for dig)\n",
        "import matplotlib.pyplot as plt\n",
        "# 'as plt' er et standard alias (et kælenavn). Det gør, at vi kan skrive 'plt'\n",
        "# i stedet for det lange 'matplotlib.pyplot' hver gang. Det er ren bekvemmelighed.\n",
        "\n",
        "# En liste med de gennemsnitlige temperaturer for hver måned i København\n",
        "københavn_temperaturer = [0, 0, 3, 7, 12, 15, 17, 17, 13, 9, 5, 2]\n",
        "\n",
        "# En liste med navne på månederne til vores x-akse\n",
        "måneder = [\"Jan\", \"Feb\", \"Mar\", \"Apr\", \"Maj\", \"Jun\", \"Jul\", \"Aug\", \"Sep\", \"Okt\", \"Nov\", \"Dec\"]\n",
        "\n",
        "\n",
        "# --- SKRIV DIN KODE HERUNDER ---\n",
        "\n",
        "# Trin 2: Tegn grafen ved at plotte måneder mod temperaturer\n",
        "# plt.plot(...)\n",
        "\n",
        "# Trin 3: Giv grafen en titel\n",
        "# plt.title(...)\n",
        "\n",
        "# Trin 4: Giv x-aksen en etiket\n",
        "# plt.xlabel(...)\n",
        "\n",
        "# Trin 5: Giv y-aksen en etiket\n",
        "# plt.ylabel(...)\n",
        "\n",
        "# Trin 6: Vis grafen\n",
        "# plt.show()"
      ],
      "execution_count": null,
      "outputs": []
    },
    {
      "cell_type": "markdown",
      "metadata": {
        "id": "-3d4NBavzeKc"
      },
      "source": [
        "#### Interpretation\n",
        "\n",
        "Se lige det resultat! Du har lige skrevet et par linjer kode og forvandlet en kedelig liste af tal til en intuitiv og letforståelig graf. Dette er kernen i datavisualisering og en fundamental del af data science.\n",
        "\n",
        "*   **X-aksen (vandret):** Viser månederne fra januar til december.\n",
        "*   **Y-aksen (lodret):** Viser den gennemsnitlige temperatur i grader Celsius.\n",
        "*   **Den blå linje:** Viser selve tendensen. Vi kan med et enkelt blik se, hvordan temperaturen er lav om vinteren, stiger stejlt i løbet af foråret, topper i sommermånederne (juli og august ser ud til at være lige varme), og derefter falder igen hen over efteråret.\n",
        "\n",
        "Denne simple graf kommunikerer historien i vores data langt mere effektivt, end tallene alene nogensinde kunne. Og du har lavet den helt selv!\n",
        "\n",
        "Hvis du sad fast, eller bare vil se den færdige løsning, kan du kigge herunder."
      ]
    },
    {
      "cell_type": "code",
      "metadata": {
        "id": "qHrIW_XuzeKc"
      },
      "source": [
        "#@title Løsningsforslag (klik for at vise)\n",
        "# Trin 1: Importer værktøjskassen og definer data (dette er gjort for dig)\n",
        "import matplotlib.pyplot as plt\n",
        "\n",
        "# En liste med de gennemsnitlige temperaturer for hver måned i København\n",
        "københavn_temperaturer = [0, 0, 3, 7, 12, 15, 17, 17, 13, 9, 5, 2]\n",
        "\n",
        "# En liste med navne på månederne til vores x-akse\n",
        "måneder = [\"Jan\", \"Feb\", \"Mar\", \"Apr\", \"Maj\", \"Jun\", \"Jul\", \"Aug\", \"Sep\", \"Okt\", \"Nov\", \"Dec\"]\n",
        "\n",
        "\n",
        "# --- LØSNING ---\n",
        "\n",
        "# Trin 2: Tegn grafen ved at plotte måneder mod temperaturer\n",
        "plt.plot(måneder, københavn_temperaturer)\n",
        "\n",
        "# Trin 3: Giv grafen en titel\n",
        "plt.title(\"Gennemsnitlig månedlig temperatur i København\")\n",
        "\n",
        "# Trin 4: Giv x-aksen en etiket\n",
        "plt.xlabel(\"Måned\")\n",
        "\n",
        "# Trin 5: Giv y-aksen en etiket\n",
        "plt.ylabel(\"Temperatur (°C)\")\n",
        "\n",
        "# (Bonus: Tilføj et gitter for at gøre det nemmere at aflæse)\n",
        "plt.grid(True)\n",
        "\n",
        "# Trin 6: Vis grafen\n",
        "plt.show()"
      ],
      "execution_count": null,
      "outputs": []
    },
    {
      "cell_type": "markdown",
      "metadata": {
        "id": "hxfJnFNazeKc"
      },
      "source": [
        "### Du er nu klar\n",
        "\n",
        "Du har gennemført dette kursus og taget dine allerførste, men vigtigste, skridt ind i programmeringens verden. Du har bevist over for dig selv, at du kan lære det. Du kan give en computer instruktioner og få den til at udføre komplekse opgaver for dig.\n",
        "\n",
        "Rejsen stopper ikke her. Bliv ved med at være nysgerrig. Bliv ved med at bygge små projekter. Find noget, du synes er sjovt – om det er at lave små spil, analysere data fra din yndlingssport, eller automatisere en kedelig opgave – og brug din nye viden til at løse det.\n",
        "\n",
        "Tak fordi du deltog, og held og lykke på din videre kodningsrejse!\n",
        "```"
      ]
    }
  ],
  "metadata": {
    "kernelspec": {
      "name": "python3",
      "language": "python",
      "display_name": "Python 3 (ipykernel)",
      "path": "/Users/sc16kj/Documents/Python_projects/qmd_testing/venv/share/jupyter/kernels/python3"
    },
    "colab": {
      "provenance": [],
      "include_colab_link": true
    }
  },
  "nbformat": 4,
  "nbformat_minor": 0
}